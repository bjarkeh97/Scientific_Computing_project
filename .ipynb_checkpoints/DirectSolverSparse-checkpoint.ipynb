{
 "cells": [
  {
   "cell_type": "code",
   "execution_count": 1,
   "metadata": {},
   "outputs": [],
   "source": [
    "import numpy as np\n",
    "from scipy import linalg\n",
    "from scipy import sparse\n",
    "\n",
    "class SparseMatrixDirectSolver:\n",
    "    \n",
    "    #Method of LU decomposition. Returns matrix with L in lower triangular part and U in upper.\n",
    "    def LUfunc(M):\n",
    "        Afloat = M.astype(float) #To make sure we have float division\n",
    "#        A = sparse.csr_matrix(Afloat) #make sparse\n",
    "        A = Afloat\n",
    "        N = np.shape(A)[0]    #length of square matrix\n",
    "        for k in range(N-1):\n",
    "            if A[k,k] == 0:\n",
    "                print(\"Breakdown due to: Zero pivot\")\n",
    "                break\n",
    "            for i in range(k+1,N):\n",
    "                A[i,k] = A[i,k]/A[k,k]\n",
    "                for j in range(k+1,N):\n",
    "                    A[i,j] = A[i,j] - A[i,k]*A[k,j]\n",
    "        return A\n",
    "    \n",
    "    \n",
    "    def LUfunc2(A):  #Returns LUfunc matrix result as L and U matrices\n",
    "        L = np.tril(A,-1)+np.eye(np.shape(A)[0])\n",
    "        U = np.triu(A)\n",
    "        return L , U\n",
    "\n",
    "    #Forward     Works for a LU decomposed matrix from LUfunc      L is NxN matrix, f is N vector\n",
    "    def Forsub(A,f):\n",
    "        N = np.shape(A)[0]\n",
    "        y = np.array([f[0]]) #first element is always just f[0] due to lower tridiagonal\n",
    "        L = A.astype(float)\n",
    "        for i in range(N):\n",
    "            L[i,i] = 1   #Make sure diagonal is 1\n",
    "        for i in range(1,N):\n",
    "            y=np.append(y,f[i]-np.dot(L[i,:i],y[:i]))\n",
    "        return y\n",
    "    \n",
    "    #backward    Use y from Forsub\n",
    "    def Backsub(A,y):\n",
    "        N = np.shape(A)[0]\n",
    "        U = A.astype(float)\n",
    "        u = np.zeros(N)\n",
    "        u[-1] = y[-1]/U[-1,-1]   #manually add first element to u\n",
    "        for i in reversed(range(N-1)):\n",
    "            u[i] = ( y[i]-np.dot(U[i,i:N],u[i:N]) )/U[i,i]\n",
    "        return u\n",
    "    \n",
    "    def DirSolver(A,f):\n",
    "        LU = LUfunc(A)\n",
    "        y = Forsub(LU,f)\n",
    "        u = Backsub(LU,y)\n",
    "        return u"
   ]
  },
  {
   "cell_type": "code",
   "execution_count": null,
   "metadata": {},
   "outputs": [],
   "source": []
  }
 ],
 "metadata": {
  "kernelspec": {
   "display_name": "Python 3",
   "language": "python",
   "name": "python3"
  },
  "language_info": {
   "codemirror_mode": {
    "name": "ipython",
    "version": 3
   },
   "file_extension": ".py",
   "mimetype": "text/x-python",
   "name": "python",
   "nbconvert_exporter": "python",
   "pygments_lexer": "ipython3",
   "version": "3.7.6"
  }
 },
 "nbformat": 4,
 "nbformat_minor": 4
}
