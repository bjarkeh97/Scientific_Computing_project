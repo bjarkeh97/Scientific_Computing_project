{
 "cells": [
  {
   "cell_type": "code",
   "execution_count": null,
   "metadata": {},
   "outputs": [],
   "source": [
    "#SSOR method\n",
    "\n",
    "def SORit(A,u,w,f):\n",
    "    N = np.size(u)\n",
    "    s0 = u[0]\n",
    "    u[0] = (f[0] - np.dot(A[0,1:],u[1:]))/A[0,0]\n",
    "    u[0] = (1-w)*s0+w*u[0]\n",
    "    for i in range(1,N-1):\n",
    "        s = u[i]\n",
    "        u[i] = (f[i]-np.dot(A[i,:i-1],u[:i-1])-np.dot(A[i,i+1:],u[i+1:]))/A[i,i]\n",
    "        u[i] = (1-w)*s+w*u[i]\n",
    "    return u\n",
    "\n",
    "def SOR(A,u,w,f,N):\n",
    "    u0 = u\n",
    "    for i in range(N):\n",
    "        print(u0)\n",
    "        u0 = SORit(A,u0,w,f)\n",
    "    return u0"
   ]
  }
 ],
 "metadata": {
  "kernelspec": {
   "display_name": "Python 3",
   "language": "python",
   "name": "python3"
  },
  "language_info": {
   "codemirror_mode": {
    "name": "ipython",
    "version": 3
   },
   "file_extension": ".py",
   "mimetype": "text/x-python",
   "name": "python",
   "nbconvert_exporter": "python",
   "pygments_lexer": "ipython3",
   "version": "3.7.6"
  }
 },
 "nbformat": 4,
 "nbformat_minor": 4
}
