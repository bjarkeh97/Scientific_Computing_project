{
 "cells": [
  {
   "cell_type": "code",
   "execution_count": 166,
   "metadata": {},
   "outputs": [],
   "source": [
    "import numpy as np\n",
    "from matplotlib import pyplot as plt\n",
    "from scipy.sparse import diags\n",
    "from sympy import symbols as symb\n",
    "from scipy import linalg\n",
    "\n",
    "##Define grid size\n",
    "\n",
    "N=3\n",
    "#h=symb(\"h\")\n",
    "h=1/N\n",
    "\n",
    "##Create A matrix 2D\n",
    "\n",
    "T=(1/h**2)*diags([-1, 2, -1], [-1, 0, 1], shape=(N-1, N-1)).toarray()\n",
    "T=np.pad(T,1, mode='constant')\n",
    "T[0,0]=1\n",
    "T[-1,-1]=1\n",
    "\n",
    "I=np.eye(N-1)\n",
    "I=np.pad(I,1, mode='constant')\n",
    "\n",
    "T2D=np.kron(T,I)+np.kron(I,T)\n",
    "T2D[0,0]=T2D[-1,-1]=T2D[N,N]=T2D[-N-1,-N-1]=h**2\n",
    "\n",
    "\n",
    "def Sfunc(x,y):\n",
    "    return (x**2+y**2)*np.sin(x*y)\n",
    "\n",
    "def Bfunc(x,y):\n",
    "    return np.sin(x*y)\n"
   ]
  },
  {
   "cell_type": "code",
   "execution_count": 2,
   "metadata": {},
   "outputs": [],
   "source": [
    "#LU factorization\n",
    "\n",
    "def LUfunc(M):\n",
    "    A = M.astype(float) #To make sure we have float division\n",
    "    N = np.shape(A)[0]\n",
    "    for k in range(N-1):\n",
    "        if A[k,k] == 0:\n",
    "            print(\"Breakdown due to: Zero pivot\")\n",
    "            break\n",
    "        for i in range(k+1,N):\n",
    "            A[i,k] = A[i,k]/A[k,k]\n",
    "            for j in range(k+1,N):\n",
    "                A[i,j] = A[i,j] - A[i,k]*A[k,j]\n",
    "    return A\n",
    "\n",
    "def LUfunc2(A):\n",
    "    L = np.tril(A,-1)+np.eye(np.shape(A)[0])\n",
    "    U = np.triu(A)\n",
    "    return L , U"
   ]
  },
  {
   "cell_type": "code",
   "execution_count": 3,
   "metadata": {},
   "outputs": [],
   "source": [
    "#Substitution\n",
    "\n",
    "#Forward     Works for a LU decomposed matrix from LUfunc      L is NxN matrix, f is N vector\n",
    "def Forsub(A,f):\n",
    "    N = np.shape(A)[0]\n",
    "    y = np.array([f[0]]) #first element is always just f[0] due to lower tridiagonal\n",
    "    L = A.astype(float)\n",
    "    for i in range(N):\n",
    "        L[i,i] = 1   #Make sure diagonal is 1\n",
    "    for i in range(1,N):\n",
    "        y=np.append(y,f[i]-np.dot(L[i,:i],y[:i]))\n",
    "    return y\n",
    "    \n",
    "#backward    Use y from Forsub\n",
    "def Backsub(A,y):\n",
    "    N = np.shape(A)[0]\n",
    "    U = A.astype(float)\n",
    "    u = np.zeros(N)\n",
    "    u[-1] = y[-1]/U[-1,-1]   #manually add first element to u\n",
    "    for i in reversed(range(N-1)):\n",
    "        u[i] = ( y[i]-np.dot(U[i,i:N],u[i:N]) )/U[i,i]\n",
    "    return u"
   ]
  },
  {
   "cell_type": "code",
   "execution_count": 4,
   "metadata": {},
   "outputs": [],
   "source": [
    "#Final direct solver\n",
    "\n",
    "def DirSolver(A,f):\n",
    "    LU = LUfunc(A)\n",
    "    y = Forsub(LU,f)\n",
    "    u = Backsub(LU,y)\n",
    "    return u"
   ]
  },
  {
   "cell_type": "code",
   "execution_count": 5,
   "metadata": {},
   "outputs": [
    {
     "name": "stdout",
     "output_type": "stream",
     "text": [
      "[5. 7. 8.]\n",
      "[ True False  True]\n"
     ]
    }
   ],
   "source": [
    "#Example:\n",
    "A = np.array([[3,4,2],[1,2,4],[8,7,6]])\n",
    "f = np.array([59,51,137])\n",
    "solution = np.array([5.,7.,8.])\n",
    "\n",
    "u = DirSolver(A,f)\n",
    "print(u)\n",
    "print(u==solution)"
   ]
  },
  {
   "cell_type": "code",
   "execution_count": 164,
   "metadata": {},
   "outputs": [
    {
     "name": "stdout",
     "output_type": "stream",
     "text": [
      "[9.22903628e-01 3.62561164e-01 7.79897670e-01 9.29084878e-01\n",
      " 1.11687736e-01 7.02295030e-01 5.69752693e-01 9.27144374e-01\n",
      " 5.07183051e-02 7.77141770e-01 5.14285379e-02 6.91625728e-01\n",
      " 3.55661099e-02 5.20739558e-01 3.88154781e-01 7.63110293e-01\n",
      " 8.83520285e-01 6.79067930e-01 1.62879267e-01 2.39055822e-01\n",
      " 1.52057338e-01 2.98578573e-01 1.85366587e-01 5.41032098e-01\n",
      " 1.73215755e-01 4.84017374e-01 9.65241983e-02 1.22718864e-01\n",
      " 1.40162853e-02 3.59799951e-01 4.14594078e-01 7.98111106e-01\n",
      " 4.73036297e-01 1.11925781e-01 1.51184315e-01 4.03025810e-01\n",
      " 2.05673379e-01 5.52308970e-01 7.68967861e-01 4.77988860e-01\n",
      " 1.60304022e-02 1.62901839e-01 3.92198448e-01 6.64981865e-01\n",
      " 2.69054511e-01 2.39456940e-01 2.77703721e-01 2.06109242e-01\n",
      " 1.98170559e-01 1.18473726e-01 3.82864533e-01 9.04806688e-01\n",
      " 7.21160231e-02 9.79125796e-01 6.11616606e-01 4.59620647e-01\n",
      " 9.75279519e-02 6.58603887e-01 5.96455849e-01 3.18907601e-01\n",
      " 1.66422355e-01 9.89444771e-01 3.84638058e-01 2.36351824e-01\n",
      " 9.54038639e-01 7.30921526e-01 2.73157597e-01 9.25200593e-01\n",
      " 2.49570583e-02 9.63337778e-01 3.97309727e-01 7.32821314e-01\n",
      " 6.99674950e-01 1.87251823e-01 5.62792077e-01 6.77660104e-01\n",
      " 9.97169804e-01 2.46264834e-01 1.16798184e-02 5.15078517e-01\n",
      " 2.76006887e-01 4.84883784e-01 6.51328127e-01 3.43151655e-01\n",
      " 5.53783405e-01 9.75576699e-01 9.62462725e-01 8.67693244e-02\n",
      " 1.13588571e-01 8.73453678e-01 5.08278676e-01 6.81018637e-01\n",
      " 4.43222419e-01 4.74009111e-01 9.64546046e-01 8.22697369e-02\n",
      " 2.94352762e-01 5.85491317e-01 1.20963869e-01 3.21030071e-01\n",
      " 6.65256161e-01 5.08499443e-01 6.36997571e-02 4.21660309e-01\n",
      " 5.22657719e-01 2.75415512e-01 2.22540210e-01 8.24755837e-01\n",
      " 4.49465409e-01 6.84220938e-01 9.93784441e-01 9.40199806e-01\n",
      " 2.43830505e-01 5.82947214e-01 8.21073882e-01 5.23510935e-02\n",
      " 2.14815497e-01 5.78423464e-01 4.04382947e-01 3.37403054e-01\n",
      " 5.38404435e-02 5.52965082e-01 3.77941779e-02 5.05105466e-01\n",
      " 3.17325504e-01 5.03571585e-01 3.75540273e-01 8.23049763e-01\n",
      " 2.72799265e-01 4.28422990e-01 7.51868532e-01 1.95859654e-01\n",
      " 9.76171268e-01 8.63447834e-01 2.78651069e-01 6.88630694e-01\n",
      " 5.97058799e-01 2.89202365e-01 7.97249678e-01 4.41401855e-01\n",
      " 7.44114043e-01 9.97676084e-01 9.57581981e-02 3.56619681e-01\n",
      " 4.69616060e-01 3.91009295e-01 4.93373944e-01 7.15061058e-01\n",
      " 3.31176343e-01 9.30803759e-02 6.71024746e-01 8.07748947e-01\n",
      " 7.64841550e-01 8.91121729e-01 8.61154271e-04 5.89699069e-01\n",
      " 6.46155519e-01 6.98477483e-01 1.75311070e-01 9.73797364e-01\n",
      " 5.86138010e-01 4.23510006e-02 9.94566470e-01 6.04412581e-01\n",
      " 8.59017503e-01 3.96164806e-01 5.96316690e-02 1.88466526e-01\n",
      " 9.52201618e-01 3.24279065e-02 6.83682401e-01 3.14611932e-01\n",
      " 9.24780271e-01 7.12846947e-01 8.36684666e-01 1.85034852e-01\n",
      " 9.10882693e-01 8.33163168e-01 4.68671610e-03 5.32031970e-01\n",
      " 8.96845893e-01 3.17783626e-01 6.63588403e-01 7.80991434e-01\n",
      " 8.10762453e-01 5.27337028e-01 5.76572967e-01 7.40421850e-01\n",
      " 7.96820782e-01 7.75738750e-01 1.77959664e-01 4.34835855e-02\n",
      " 9.41982358e-02 7.80526735e-01 5.93671429e-01 9.11739490e-01\n",
      " 7.66513139e-01 8.40418314e-01 7.74665068e-01 7.93805271e-01\n",
      " 9.34363502e-01 5.52301165e-02 4.72688238e-01 6.62424126e-01\n",
      " 6.84803722e-01 5.53094233e-01 9.61769503e-01 2.56710027e-01\n",
      " 1.09092918e-01 8.56042406e-02 9.44349911e-01 6.74283655e-01\n",
      " 4.06004314e-01 4.13938681e-01 9.96988920e-01 8.30937988e-01\n",
      " 2.24690395e-01 2.49766911e-01 8.32488219e-01 5.88925026e-01\n",
      " 3.08466179e-01 4.36738188e-01 1.69151136e-02 6.92992327e-01\n",
      " 3.84423839e-01 4.79873414e-01 8.41508508e-01 1.05912177e-01\n",
      " 1.42619832e-01 9.32364002e-01 6.99084738e-01 3.02865472e-01\n",
      " 5.62814955e-01 3.25854223e-01 5.36841735e-02 4.45277823e-01\n",
      " 3.84762418e-01 4.98579072e-01 2.01766058e-01 5.32981495e-01\n",
      " 8.03447103e-01 2.46626193e-01 6.87120770e-01 6.60947821e-01\n",
      " 5.18333231e-01 2.55848531e-01 2.32927122e-01 8.29831532e-01\n",
      " 5.65113327e-01 8.04758271e-01 7.87597968e-01 6.17491338e-01\n",
      " 1.15392601e-01 3.68119395e-01 8.86131158e-01 7.64983678e-01\n",
      " 3.75058304e-02 6.94207717e-01 8.47400220e-01 7.55885439e-01\n",
      " 6.45849097e-01 8.07405394e-02 8.55491860e-01 7.39827213e-01\n",
      " 6.98337062e-01 3.67355714e-02 7.39413757e-01 1.64543693e-03\n",
      " 1.79081068e-02 3.97443108e-01 3.57102429e-01 3.59878246e-01\n",
      " 4.87490038e-01 6.28362255e-01 4.06394434e-02 6.40787585e-01\n",
      " 7.41971539e-01 2.36075487e-01 7.27876631e-01 6.98512574e-01\n",
      " 7.90692452e-01 3.57584699e-01 8.35328737e-01 8.02796244e-01\n",
      " 3.03571404e-02 7.88591656e-01 4.02245922e-01 5.42707530e-01\n",
      " 3.05505695e-01 1.11634796e-01 1.89480981e-01 7.00472466e-01\n",
      " 6.24794989e-01 6.51263914e-01 6.60833047e-01 1.71177084e-01\n",
      " 6.53260602e-01 3.56649178e-01 8.10659875e-01 5.20772472e-03]\n",
      "[9.22903628e-01 3.62561164e-01 7.79897670e-01 9.29084878e-01\n",
      " 1.11687736e-01 7.02295031e-01 5.69752693e-01 9.27144374e-01\n",
      " 5.07183051e-02 7.77141770e-01 5.14285380e-02 6.91625728e-01\n",
      " 3.55661099e-02 5.20739558e-01 3.88154781e-01 7.63110293e-01\n",
      " 8.83520285e-01 6.79067930e-01 1.62879267e-01 2.39055822e-01\n",
      " 1.52057338e-01 2.98578573e-01 1.85366587e-01 5.41032098e-01\n",
      " 1.73215755e-01 4.84017374e-01 9.65241983e-02 1.22718864e-01\n",
      " 1.40162853e-02 3.59799951e-01 4.14594078e-01 7.98111106e-01\n",
      " 4.73036296e-01 1.11925781e-01 1.51184315e-01 4.03025810e-01\n",
      " 2.05673379e-01 5.52308970e-01 7.68967861e-01 4.77988860e-01\n",
      " 1.60304022e-02 1.62901839e-01 3.92198448e-01 6.64981865e-01\n",
      " 2.69054511e-01 2.39456940e-01 2.77703721e-01 2.06109242e-01\n",
      " 1.98170559e-01 1.18473726e-01 3.82864533e-01 9.04806688e-01\n",
      " 7.21160231e-02 9.79125796e-01 6.11616606e-01 4.59620647e-01\n",
      " 9.75279520e-02 6.58603887e-01 5.96455849e-01 3.18907601e-01\n",
      " 1.66422355e-01 9.89444771e-01 3.84638058e-01 2.36351824e-01\n",
      " 9.54038639e-01 7.30921526e-01 2.73157597e-01 9.25200593e-01\n",
      " 2.49570583e-02 9.63337778e-01 3.97309727e-01 7.32821314e-01\n",
      " 6.99674950e-01 1.87251823e-01 5.62792077e-01 6.77660104e-01\n",
      " 9.97169804e-01 2.46264834e-01 1.16798185e-02 5.15078517e-01\n",
      " 2.76006887e-01 4.84883784e-01 6.51328127e-01 3.43151655e-01\n",
      " 5.53783405e-01 9.75576699e-01 9.62462725e-01 8.67693244e-02\n",
      " 1.13588571e-01 8.73453678e-01 5.08278676e-01 6.81018637e-01\n",
      " 4.43222419e-01 4.74009111e-01 9.64546046e-01 8.22697368e-02\n",
      " 2.94352762e-01 5.85491317e-01 1.20963869e-01 3.21030071e-01\n",
      " 6.65256161e-01 5.08499443e-01 6.36997571e-02 4.21660309e-01\n",
      " 5.22657719e-01 2.75415512e-01 2.22540210e-01 8.24755837e-01\n",
      " 4.49465409e-01 6.84220938e-01 9.93784441e-01 9.40199806e-01\n",
      " 2.43830505e-01 5.82947214e-01 8.21073882e-01 5.23510934e-02\n",
      " 2.14815497e-01 5.78423464e-01 4.04382947e-01 3.37403054e-01\n",
      " 5.38404436e-02 5.52965082e-01 3.77941779e-02 5.05105466e-01\n",
      " 3.17325504e-01 5.03571585e-01 3.75540273e-01 8.23049763e-01\n",
      " 2.72799265e-01 4.28422990e-01 7.51868532e-01 1.95859654e-01\n",
      " 9.76171268e-01 8.63447834e-01 2.78651069e-01 6.88630694e-01\n",
      " 5.97058799e-01 2.89202365e-01 7.97249678e-01 4.41401855e-01\n",
      " 7.44114043e-01 9.97676084e-01 9.57581980e-02 3.56619681e-01\n",
      " 4.69616060e-01 3.91009295e-01 4.93373944e-01 7.15061058e-01\n",
      " 3.31176343e-01 9.30803759e-02 6.71024746e-01 8.07748947e-01\n",
      " 7.64841550e-01 8.91121729e-01 8.61154243e-04 5.89699069e-01\n",
      " 6.46155519e-01 6.98477483e-01 1.75311070e-01 9.73797364e-01\n",
      " 5.86138010e-01 4.23510007e-02 9.94566470e-01 6.04412581e-01\n",
      " 8.59017503e-01 3.96164806e-01 5.96316689e-02 1.88466526e-01\n",
      " 9.52201618e-01 3.24279065e-02 6.83682401e-01 3.14611932e-01\n",
      " 9.24780271e-01 7.12846947e-01 8.36684666e-01 1.85034852e-01\n",
      " 9.10882693e-01 8.33163168e-01 4.68671611e-03 5.32031970e-01\n",
      " 8.96845893e-01 3.17783626e-01 6.63588403e-01 7.80991434e-01\n",
      " 8.10762453e-01 5.27337028e-01 5.76572967e-01 7.40421850e-01\n",
      " 7.96820782e-01 7.75738750e-01 1.77959664e-01 4.34835855e-02\n",
      " 9.41982357e-02 7.80526735e-01 5.93671429e-01 9.11739490e-01\n",
      " 7.66513139e-01 8.40418314e-01 7.74665068e-01 7.93805271e-01\n",
      " 9.34363502e-01 5.52301165e-02 4.72688238e-01 6.62424126e-01\n",
      " 6.84803722e-01 5.53094233e-01 9.61769503e-01 2.56710027e-01\n",
      " 1.09092918e-01 8.56042406e-02 9.44349911e-01 6.74283655e-01\n",
      " 4.06004314e-01 4.13938681e-01 9.96988920e-01 8.30937988e-01\n",
      " 2.24690395e-01 2.49766911e-01 8.32488219e-01 5.88925026e-01\n",
      " 3.08466179e-01 4.36738188e-01 1.69151136e-02 6.92992327e-01\n",
      " 3.84423839e-01 4.79873414e-01 8.41508508e-01 1.05912177e-01\n",
      " 1.42619832e-01 9.32364002e-01 6.99084738e-01 3.02865472e-01\n",
      " 5.62814955e-01 3.25854222e-01 5.36841735e-02 4.45277823e-01\n",
      " 3.84762418e-01 4.98579072e-01 2.01766058e-01 5.32981495e-01\n",
      " 8.03447103e-01 2.46626193e-01 6.87120770e-01 6.60947821e-01\n",
      " 5.18333231e-01 2.55848531e-01 2.32927122e-01 8.29831532e-01\n",
      " 5.65113327e-01 8.04758271e-01 7.87597968e-01 6.17491338e-01\n",
      " 1.15392601e-01 3.68119395e-01 8.86131158e-01 7.64983678e-01\n",
      " 3.75058304e-02 6.94207717e-01 8.47400220e-01 7.55885439e-01\n",
      " 6.45849097e-01 8.07405394e-02 8.55491860e-01 7.39827213e-01\n",
      " 6.98337062e-01 3.67355714e-02 7.39413757e-01 1.64543694e-03\n",
      " 1.79081068e-02 3.97443108e-01 3.57102429e-01 3.59878246e-01\n",
      " 4.87490038e-01 6.28362255e-01 4.06394434e-02 6.40787585e-01\n",
      " 7.41971539e-01 2.36075487e-01 7.27876631e-01 6.98512574e-01\n",
      " 7.90692452e-01 3.57584699e-01 8.35328737e-01 8.02796244e-01\n",
      " 3.03571404e-02 7.88591656e-01 4.02245922e-01 5.42707530e-01\n",
      " 3.05505695e-01 1.11634796e-01 1.89480981e-01 7.00472466e-01\n",
      " 6.24794989e-01 6.51263914e-01 6.60833047e-01 1.71177084e-01\n",
      " 6.53260602e-01 3.56649178e-01 8.10659875e-01 5.20772470e-03]\n",
      "[ True  True  True  True  True  True  True  True  True  True  True  True\n",
      "  True  True  True  True  True  True  True  True  True  True  True  True\n",
      "  True  True  True  True  True  True  True  True  True  True  True  True\n",
      "  True  True  True  True  True  True  True  True  True  True  True  True\n",
      "  True  True  True  True  True  True  True  True  True  True  True  True\n",
      "  True  True  True  True  True  True  True  True  True  True  True  True\n",
      "  True  True  True  True  True  True  True  True  True  True  True  True\n",
      "  True  True  True  True  True  True  True  True  True  True  True  True\n",
      "  True  True  True  True  True  True  True  True  True  True  True  True\n",
      "  True  True  True  True  True  True  True  True  True  True  True  True\n",
      "  True  True  True  True  True  True  True  True  True  True  True  True\n",
      "  True  True  True  True  True  True  True  True  True  True  True  True\n",
      "  True  True  True  True  True  True  True  True  True  True  True  True\n",
      "  True  True  True  True  True  True  True  True  True  True  True  True\n",
      "  True  True  True  True  True  True  True  True  True  True  True  True\n",
      "  True  True  True  True  True  True  True  True  True  True  True  True\n",
      "  True  True  True  True  True  True  True  True  True  True  True  True\n",
      "  True  True  True  True  True  True  True  True  True  True  True  True\n",
      "  True  True  True  True  True  True  True  True  True  True  True  True\n",
      "  True  True  True  True  True  True  True  True  True  True  True  True\n",
      "  True  True  True  True  True  True  True  True  True  True  True  True\n",
      "  True  True  True  True  True  True  True  True  True  True  True  True\n",
      "  True  True  True  True  True  True  True  True  True  True  True  True\n",
      "  True  True  True  True  True  True  True  True  True  True  True  True\n",
      "  True  True  True  True  True  True  True  True  True  True  True  True]\n"
     ]
    }
   ],
   "source": [
    "#Example2:\n",
    "N = 300\n",
    "C = np.random.rand(N,N)\n",
    "#print(C)\n",
    "solution = np.random.rand(N)\n",
    "#print(solution)\n",
    "h = np.matmul(C,solution)\n",
    "\n",
    "u = DirSolver(C,h)\n",
    "print(u)\n",
    "print(solution)\n",
    "print(u.round(4)==solution.round(4))"
   ]
  },
  {
   "cell_type": "code",
   "execution_count": 174,
   "metadata": {},
   "outputs": [
    {
     "name": "stdout",
     "output_type": "stream",
     "text": [
      "13.959019899368286\n",
      "6.211564596014796e-11\n"
     ]
    }
   ],
   "source": [
    "#Example3:\n",
    "import time\n",
    "N=400\n",
    "d=8\n",
    "D = np.random.rand(N,N)\n",
    "j = np.random.rand(N)\n",
    "t1 = time.time()\n",
    "u = DirSolver(D,j)\n",
    "t2 = time.time()\n",
    "print(t2-t1)\n",
    "u1 = np.linalg.solve(D,j)\n",
    "#print(u.round(d)==u1.round(d))\n",
    "print(np.amax(np.absolute(u-u1)))"
   ]
  },
  {
   "cell_type": "code",
   "execution_count": 171,
   "metadata": {},
   "outputs": [],
   "source": [
    "#SSOR method\n",
    "\n",
    "def SORit(A,u,w,f):\n",
    "    N = np.size(u)\n",
    "    s0 = u[0]\n",
    "    u[0] = (f[0] - np.dot(A[0,1:],u[1:]))/A[0,0]\n",
    "    u[0] = (1-w)*s0+w*u[0]\n",
    "    for i in range(1,N-1):\n",
    "        s = u[i]\n",
    "        u[i] = (f[i]-np.dot(A[i,:i-1],u[:i-1])-np.dot(A[i,i+1:],u[i+1:]))/A[i,i]\n",
    "        u[i] = (1-w)*s+w*u[i]\n",
    "    return u\n",
    "\n",
    "def SOR(A,u,w,f,N):\n",
    "    u0 = u\n",
    "    for i in range(N):\n",
    "        print(u0)\n",
    "        u0 = SORit(A,u0,w,f)\n",
    "    return u0\n"
   ]
  },
  {
   "cell_type": "code",
   "execution_count": 158,
   "metadata": {},
   "outputs": [
    {
     "name": "stdout",
     "output_type": "stream",
     "text": [
      "[0. 0. 0. 0.]\n",
      "[ 6.30979537  1.7813246  -6.98370489  0.        ]\n",
      "[ 37.90841327   5.34352048 -46.93477624   0.        ]\n",
      "[ 234.60282493   25.72146368 -295.62136437    0.        ]\n",
      "[ 1463.29870143   152.56965565 -1849.0980635      0.        ]\n"
     ]
    }
   ],
   "source": [
    "#Example3:\n",
    "N=4\n",
    "d=10\n",
    "D = np.random.rand(N,N)\n",
    "j = np.random.rand(N)\n",
    "u = DirSolver(D,j)\n",
    "\n",
    "#SSOR\n",
    "u0 = np.zeros(N)\n",
    "us = SOR(D,u0,1,j,5)"
   ]
  },
  {
   "cell_type": "code",
   "execution_count": 159,
   "metadata": {},
   "outputs": [
    {
     "name": "stdout",
     "output_type": "stream",
     "text": [
      "[-1.05627614  2.7984555  -0.35482717  0.58506365]\n",
      "[  9139.69871407    944.95541334 -11554.59865235      0.        ]\n"
     ]
    }
   ],
   "source": [
    "print(u)\n",
    "print(us)"
   ]
  },
  {
   "cell_type": "code",
   "execution_count": 87,
   "metadata": {},
   "outputs": [
    {
     "name": "stdout",
     "output_type": "stream",
     "text": [
      "1\n",
      "2\n",
      "3\n"
     ]
    }
   ],
   "source": [
    "for i in range(1,4):\n",
    "    print(i)"
   ]
  },
  {
   "cell_type": "code",
   "execution_count": 95,
   "metadata": {},
   "outputs": [
    {
     "name": "stdout",
     "output_type": "stream",
     "text": [
      "[1 2 3]\n"
     ]
    }
   ],
   "source": [
    "v = np.array([0,1,2,3,4])\n",
    "print(v[1:4])"
   ]
  },
  {
   "cell_type": "code",
   "execution_count": 2,
   "metadata": {},
   "outputs": [],
   "source": [
    "from scipy import sparse\n",
    "A = [[1,0,1],[0,4,0],[0,0,5]]\n",
    "As = sparse.csr_matrix(A) #make sparse"
   ]
  },
  {
   "cell_type": "code",
   "execution_count": 12,
   "metadata": {},
   "outputs": [
    {
     "name": "stdout",
     "output_type": "stream",
     "text": [
      "5\n"
     ]
    }
   ],
   "source": [
    "print(As[2,2])"
   ]
  },
  {
   "cell_type": "code",
   "execution_count": null,
   "metadata": {},
   "outputs": [],
   "source": []
  }
 ],
 "metadata": {
  "kernelspec": {
   "display_name": "Python 3",
   "language": "python",
   "name": "python3"
  },
  "language_info": {
   "codemirror_mode": {
    "name": "ipython",
    "version": 3
   },
   "file_extension": ".py",
   "mimetype": "text/x-python",
   "name": "python",
   "nbconvert_exporter": "python",
   "pygments_lexer": "ipython3",
   "version": "3.7.6"
  }
 },
 "nbformat": 4,
 "nbformat_minor": 4
}
