{
 "cells": [
  {
   "cell_type": "code",
   "execution_count": 1,
   "metadata": {
    "collapsed": true
   },
   "outputs": [],
   "source": [
    "import numpy as np\n",
    "import matplotlib\n",
    "import matplotlib.pyplot as plt\n",
    "import scipy.sparse as sp\n",
    "import scipy.sparse.linalg as la\n",
    "import matplotlib.ticker as ticker\n",
    "from func_file1 import create_Afuex_2D, DirSolver"
   ]
  },
  {
   "cell_type": "code",
   "execution_count": 2,
   "metadata": {},
   "outputs": [],
   "source": [
    "def sourcefunc(x,y):\n",
    "    f = (x**2 + y**2)*np.sin(x*y)\n",
    "    return f\n",
    "\n",
    "def boundary(x,y):\n",
    "    b = np.sin(x*y)\n",
    "    return b"
   ]
  },
  {
   "cell_type": "code",
   "execution_count": null,
   "metadata": {},
   "outputs": [],
   "source": [
    "A , f, u_ex = create_Afuex_2D(sourcefunc, boundary, 6)\n",
    "#u = DirSolver(A,f)\n",
    "#np.amax(np.absolute(u-u_ex))"
   ]
  },
  {
   "cell_type": "code",
   "execution_count": null,
   "metadata": {},
   "outputs": [],
   "source": [
    "A_csr = sp.csr_matrix(A)\n",
    "u = la.spsolve(A_csr, f)\n",
    "np.amax(np.absolute(u-u_ex))"
   ]
  },
  {
   "cell_type": "code",
   "execution_count": 3,
   "metadata": {},
   "outputs": [
    {
     "name": "stdout",
     "output_type": "stream",
     "text": [
      "p = 2 : error = 4.367370975033591e-05\n",
      "p = 3 : error = 1.3134443368700843e-05\n",
      "p = 4 : error = 3.443860738250315e-06\n",
      "p = 5 : error = 8.714274507548581e-07\n",
      "p = 6 : error = 2.1851842701980928e-07\n",
      "p = 7 : error = 5.4671060567557106e-08\n"
     ]
    }
   ],
   "source": [
    "for i in range(2,8):\n",
    "    A,f,u_ex = create_Afuex_2D(sourcefunc, boundary, i)\n",
    "    A_csr = sp.csr_matrix(A)\n",
    "    u = la.spsolve(A_csr, f)\n",
    "    error = np.amax(np.absolute(u-u_ex))\n",
    "    print(\"p =\", i, \": error =\", error)"
   ]
  },
  {
   "cell_type": "code",
   "execution_count": null,
   "metadata": {},
   "outputs": [],
   "source": []
  }
 ],
 "metadata": {
  "kernelspec": {
   "display_name": "Python 3",
   "language": "python",
   "name": "python3"
  },
  "language_info": {
   "codemirror_mode": {
    "name": "ipython",
    "version": 3
   },
   "file_extension": ".py",
   "mimetype": "text/x-python",
   "name": "python",
   "nbconvert_exporter": "python",
   "pygments_lexer": "ipython3",
   "version": "3.7.6"
  }
 },
 "nbformat": 4,
 "nbformat_minor": 5
}
