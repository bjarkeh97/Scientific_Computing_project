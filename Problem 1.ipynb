{
 "cells": [
  {
   "cell_type": "code",
   "execution_count": 1,
   "metadata": {},
   "outputs": [],
   "source": [
    "import numpy as np\n",
    "import matplotlib\n",
    "import matplotlib.pyplot as plt\n",
    "import scipy.sparse as sp\n",
    "import scipy.sparse.linalg as la\n",
    "import matplotlib.ticker as ticker"
   ]
  },
  {
   "cell_type": "code",
   "execution_count": 2,
   "metadata": {},
   "outputs": [],
   "source": [
    "def sourcefunc_2D(x,y):\n",
    "    f = (x**2 + y**2)*np.sin(x*y)\n",
    "    return f\n",
    "\n",
    "def boundary_2D(x,y):\n",
    "    b = np.sin(x*y)\n",
    "    return b\n",
    "\n",
    "def sourcefunc_3D(x,y,z):\n",
    "    f = ((y**2)*(x**2) + (y**2)*(z**2) + (z**2)*(x**2))*np.sin(x*y*z)\n",
    "    return f\n",
    "\n",
    "def boundary_3D(x,y,z):\n",
    "    b = np.sin(x*y*z)\n",
    "    return b"
   ]
  },
  {
   "cell_type": "code",
   "execution_count": 3,
   "metadata": {},
   "outputs": [],
   "source": [
    "def create_Afuex_2D(sourcefunc_2D, boundary_2D, p):\n",
    "\n",
    "    # Here I create the T_h and I_h matrices. These have precisely the same form as in the lecture notes. Some manual\n",
    "    # stuff is done since we are working without elimination of boundary conditions\n",
    "    h = 1/(2**p)\n",
    "    N = 1/h\n",
    "    N = int(N)\n",
    "    Th = sp.diags([-1, 2, -1], [-1, 0, 1], shape=(N-1, N-1)).toarray()\n",
    "    T_h = np.pad(Th,1)\n",
    "    T_h[0,0] = h**2\n",
    "    T_h[N,N] = h**2\n",
    "    Ih = sp.diags([1],[0], shape=(N-1, N-1)).toarray()\n",
    "    I_h = np.pad(Ih,1)\n",
    "    # The final A_h matrix is construced here. Because of the h^2 * I_{N+1} identity matrix in the very top left \n",
    "    # corner and bottom right corner I have to change four values manually from zero to 1\n",
    "    A_2D = (1/(h**2))*np.kron(T_h, I_h) + (1/(h**2))*np.kron(I_h, T_h)\n",
    "    A_2D[0,0] = 1\n",
    "    A_2D[N,N] = 1\n",
    "    A_2D[(N+1)**2-N-1,(N+1)**2-N-1] = 1\n",
    "    A_2D[(N+1)**2-1,(N+1)**2-1] = 1\n",
    "    \n",
    "    \n",
    "    # A meshgrid is created here on which I will evalute the source function. This vector is the right size for\n",
    "    # the final result, but it includes every boundary value also, as evaluated through f. This is obviously wrong\n",
    "    # as these boundary values should be evaluated through b, so that has to be adjusted. I therefore immediately \n",
    "    # introduce b1 and b_end as vectors which are the boundary values on the bottom and top of the grid, respectively.\n",
    "    # f is also reshaped here to be a vector, not an array.\n",
    "    x,y = np.mgrid[0: 1: complex(0, N+1), 0: 1: complex(0, N+1)]\n",
    "    x = x.transpose()\n",
    "    y = y.transpose()\n",
    "\n",
    "    f_2D = sourcefunc_2D(x,y)\n",
    "    f_2D = np.reshape(f_2D, (N+1)*(N+1))\n",
    "\n",
    "    x_axis = np.linspace(0, 1, num = N+1)\n",
    "    b1 = boundary_2D(x_axis, 0)\n",
    "    b_end = boundary_2D(x_axis, 1)\n",
    "    \n",
    "    # In this section I overwrite the parts of the f vector that represent boundary terms and next-to-boundary terms.\n",
    "    # In the first loop I overwrite the first and last parts of f with b1 and b_end, so that the bottom and top of the \n",
    "    # 'grid' are boundary values. In the second loop I overwrite values representing the left and right side of the\n",
    "    # 'grid'. Of course the bottom and left boundaries are just filled with zeros, as sin(xy) is zero when either x\n",
    "    # or y is zero. In the third loop I overwrite the entries which represent positions next to the right boundary. In\n",
    "    # the last loop I overwrite the entries which represent positions right below the top boundary. \n",
    "\n",
    "\n",
    "    for i in range(0, N+1):\n",
    "        f_2D[i] = b1[i]\n",
    "        f_2D[(N+1)*N + i] = b_end[i]\n",
    "\n",
    "    for i in range(1,N):\n",
    "        f_2D[i*(N+1)] = 0\n",
    "        f_2D[i*(N+1)+ N] = boundary_2D(1, i*h)\n",
    "    \n",
    "    for i in range(0,N-1):    \n",
    "        f_2D[2*N+i*(N+1)] = f_2D[2*N+i*(N+1)] + boundary_2D(1, (i+1)*h)/(h**2)\n",
    "    \n",
    "    for i in range(0,N-1):     \n",
    "        f_2D[(N+1)**2-1-2*N+i] = f_2D[(N+1)**2-1-2*N+i] + b_end[i+1]/(h**2)\n",
    "        \n",
    "    u_ex_pre_2D = boundary_2D(x,y)\n",
    "    u_ex_2D = np.reshape(u_ex_pre_2D, (1, (N+1)*(N+1)))\n",
    "    \n",
    "    \n",
    "        \n",
    "    return A_2D , f_2D , u_ex_2D, N\n",
    "\n"
   ]
  },
  {
   "cell_type": "code",
   "execution_count": 4,
   "metadata": {},
   "outputs": [],
   "source": [
    "def create_Afuex_3D(A_2D, sourcefunc_3D, boundary_3D, p):\n",
    "    \n",
    "    h = 1/(2**p)\n",
    "    N = 1/h\n",
    "    N = int(N)\n",
    "    A = A_2D\n",
    "\n",
    "    for i in range((N+1)**2):\n",
    "        if A[i,i] == 1:\n",
    "            A[i,i] = A[i,i]\n",
    "        else:\n",
    "            A[i,i] = 1.5*A[i,i]\n",
    "    \n",
    "    \n",
    "    I_b1 = sp.eye(N-1).toarray()      \n",
    "    I_b2 = np.pad(I_b1,1)     # Now we have a padded identity of size (N+1) x (N+1)\n",
    "    I_b3 = sp.csr_matrix(I_b2)\n",
    "\n",
    "    I_c1 = sp.diags([-1, -1], [-1, 1], shape=(N-1, N-1)).toarray()\n",
    "    I_c2 = np.pad(I_c1, 1)\n",
    "    I_c3 = sp.csr_matrix(I_c2)\n",
    "\n",
    "    I_d = np.zeros((N+1,N+1))\n",
    "    I_d[0,0] = 1\n",
    "    I_d[N,N] = 1\n",
    "    I_d2 = sp.csr_matrix(I_d)\n",
    "\n",
    "    off_diag = sp.kron(I_b3, I_b3)\n",
    "\n",
    "    A_3D = sp.kron(I_b3, A) + sp.kron(I_c3, (N**2)*off_diag) + sp.kron(I_d, sp.eye((N+1)**2))\n",
    "    \n",
    "    for i in range((N+1)**2):\n",
    "        if A_3D[i,i] == 0:\n",
    "            A_3D[i,i] = 1\n",
    "        else:\n",
    "            A[i,i] = A_3D[i,i]\n",
    "            \n",
    "            \n",
    "            \n",
    "            \n",
    "    z,y,x = np.mgrid[0: 1: complex(0, N+1), 0: 1: complex(0, N+1), 0: 1: complex(0, N+1)]\n",
    "\n",
    "    f_3D = sourcefunc_3D(x,y,z)\n",
    "    f_3D = np.reshape(f_3D, (N+1)**3)\n",
    "\n",
    "    b_3D = boundary_3D(x,y,z)\n",
    "    b_3D = np.reshape(b_3D, (N+1)**3)\n",
    "    \n",
    "    \n",
    "    for i in range(0, (N+1)**2): # Overwriting the first and last layer of the 3D cubic grid\n",
    "        f_3D[i] = b_3D[i]\n",
    "        f_3D[((N+1)**2)*N + i] = b_3D[((N+1)**2)*N + i]\n",
    "    \n",
    "\n",
    "    for i in range(0, (N+1)**2): # right before the last layer\n",
    "        f_3D[(N-1)*(N+1)**2 + i] = f_3D[(N-1)*(N+1)**2 + i] + b_3D[N*(N+1)**2 + i]*(N**2)\n",
    "        \n",
    "    \n",
    "    for j in range(1, N):   # for each layer j \n",
    "    \n",
    "        for i in range(0,N-1): # next to boundary points on right side  \n",
    "            f_3D[2*N+i*(N+1) + j*(N+1)**2] = f_3D[2*N+i*(N+1) + j*(N+1)**2] + b_3D[2*N+i*(N+1) + j*(N+1)**2 + 1]*(N**2)\n",
    "    \n",
    "        for i in range(0,N-1): # right below boundary points on top    \n",
    "            f_3D[(N+1)**2-1-2*N+i + j*(N+1)**2] = f_3D[(N+1)**2-1-2*N+i + j*(N+1)**2] + b_3D[(N+1)**2-1-2*N+i + j*(N+1)**2 + N + 1]*(N**2)\n",
    "        \n",
    "        for i in range(0, N+1): # actual boundary points on top and bottom\n",
    "            f_3D[i + j*(N+1)**2] = b_3D[i + j*(N+1)**2]\n",
    "            f_3D[(N+1)*N + i + j*(N+1)**2] = b_3D[(N+1)*N + i + j*(N+1)**2]\n",
    "\n",
    "        for i in range(1,N): # actual boundary points on sides\n",
    "            f_3D[i*(N+1) + j*(N+1)**2] = 0\n",
    "            f_3D[i*(N+1) + j*(N+1)**2 + N] = b_3D[i*(N+1)+ j*(N+1)**2 + N]\n",
    "            \n",
    "            \n",
    "        u_ex_3D = b_3D\n",
    "    \n",
    "    return A_3D, f_3D, b_3D, u_ex_3D\n",
    "\n"
   ]
  },
  {
   "cell_type": "code",
   "execution_count": 11,
   "metadata": {},
   "outputs": [
    {
     "name": "stdout",
     "output_type": "stream",
     "text": [
      "8.144877616911295e-06\n"
     ]
    }
   ],
   "source": [
    "p = 5\n",
    "A_2D , f_2D, u_ex_2D, N = create_Afuex_2D(sourcefunc_2D, boundary_2D, p)\n",
    "A_3D, f_3D, b_3D , u_ex_3D = create_Afuex_3D(A_2D, sourcefunc_3D, boundary_3D, p)\n",
    "u = la.spsolve(A_3D, f_3D)\n",
    "error = np.amax(np.absolute(u-u_ex_3D))\n",
    "print(error)"
   ]
  },
  {
   "cell_type": "code",
   "execution_count": 12,
   "metadata": {},
   "outputs": [
    {
     "ename": "TypeError",
     "evalue": "'Line2D' object is not callable",
     "output_type": "error",
     "traceback": [
      "\u001b[0;31m---------------------------------------------------------------------------\u001b[0m",
      "\u001b[0;31mTypeError\u001b[0m                                 Traceback (most recent call last)",
      "\u001b[0;32m<ipython-input-12-40a143e33630>\u001b[0m in \u001b[0;36m<module>\u001b[0;34m\u001b[0m\n\u001b[1;32m      1\u001b[0m \u001b[0mfigure\u001b[0m \u001b[0;34m=\u001b[0m \u001b[0mplt\u001b[0m\u001b[0;34m.\u001b[0m\u001b[0mspy\u001b[0m\u001b[0;34m(\u001b[0m\u001b[0mA_3D\u001b[0m\u001b[0;34m)\u001b[0m\u001b[0;34m\u001b[0m\u001b[0;34m\u001b[0m\u001b[0m\n\u001b[0;32m----> 2\u001b[0;31m \u001b[0mfigure\u001b[0m\u001b[0;34m(\u001b[0m\u001b[0mfigsize\u001b[0m\u001b[0;34m=\u001b[0m\u001b[0;34m(\u001b[0m\u001b[0;36m8\u001b[0m\u001b[0;34m,\u001b[0m \u001b[0;36m6\u001b[0m\u001b[0;34m)\u001b[0m\u001b[0;34m,\u001b[0m \u001b[0mdpi\u001b[0m\u001b[0;34m=\u001b[0m\u001b[0;36m80\u001b[0m\u001b[0;34m)\u001b[0m\u001b[0;34m\u001b[0m\u001b[0;34m\u001b[0m\u001b[0m\n\u001b[0m\u001b[1;32m      3\u001b[0m \u001b[0mplt\u001b[0m\u001b[0;34m.\u001b[0m\u001b[0mplot\u001b[0m\u001b[0;34m(\u001b[0m\u001b[0mfigure\u001b[0m\u001b[0;34m)\u001b[0m\u001b[0;34m\u001b[0m\u001b[0;34m\u001b[0m\u001b[0m\n",
      "\u001b[0;31mTypeError\u001b[0m: 'Line2D' object is not callable"
     ]
    },
    {
     "data": {
      "image/png": "[encoded data removed]",
      "text/plain": [
       "<Figure size 432x288 with 1 Axes>"
      ]
     },
     "metadata": {
      "needs_background": "light"
     },
     "output_type": "display_data"
    }
   ],
   "source": [
    "figure = plt.spy(A_3D)\n",
    "figure(figsize=(8, 6), dpi=80)\n",
    "plt.plot(figure)"
   ]
  },
  {
   "cell_type": "code",
   "execution_count": 9,
   "metadata": {},
   "outputs": [
    {
     "data": {
      "text/plain": [
       "<matplotlib.image.AxesImage at 0x7f846dc67590>"
      ]
     },
     "execution_count": 9,
     "metadata": {},
     "output_type": "execute_result"
    },
    {
     "data": {
      "image/png": "[encoded data removed]",
      "text/plain": [
       "<Figure size 432x288 with 1 Axes>"
      ]
     },
     "metadata": {
      "needs_background": "light"
     },
     "output_type": "display_data"
    }
   ],
   "source": [
    "plt.spy(A_2D)"
   ]
  }
 ],
 "metadata": {
  "kernelspec": {
   "display_name": "Python 3",
   "language": "python",
   "name": "python3"
  },
  "language_info": {
   "codemirror_mode": {
    "name": "ipython",
    "version": 3
   },
   "file_extension": ".py",
   "mimetype": "text/x-python",
   "name": "python",
   "nbconvert_exporter": "python",
   "pygments_lexer": "ipython3",
   "version": "3.7.6"
  }
 },
 "nbformat": 4,
 "nbformat_minor": 4
}
