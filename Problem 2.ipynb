{
 "cells": [
  {
   "cell_type": "code",
   "execution_count": 41,
   "metadata": {},
   "outputs": [],
   "source": [
    "import numpy as np\n",
    "import matplotlib\n",
    "import matplotlib.pyplot as plt\n",
    "import scipy.sparse as sp\n",
    "import scipy.sparse.linalg as la\n",
    "import matplotlib.ticker as ticker"
   ]
  },
  {
   "cell_type": "code",
   "execution_count": 42,
   "metadata": {},
   "outputs": [],
   "source": [
    "def sourcefunc(x,y):\n",
    "    f = (x**2 + y**2)*np.sin(x*y)\n",
    "    return f\n",
    "\n",
    "def boundary(x,y):\n",
    "    b = np.sin(x*y)\n",
    "    return b"
   ]
  },
  {
   "cell_type": "code",
   "execution_count": 43,
   "metadata": {},
   "outputs": [],
   "source": [
    "def create_Afuex_2D(sourcefunc, boundary, p):\n",
    "\n",
    "    # Here I create the T_h and I_h matrices. These have precisely the same form as in the lecture notes. Some manual\n",
    "    # stuff is done since we are working without elimination of boundary conditions\n",
    "    h = 1/(2**p)\n",
    "    N = 1/h\n",
    "    N = int(N)\n",
    "    Th = sp.diags([-1, 2, -1], [-1, 0, 1], shape=(N-1, N-1)).toarray()\n",
    "    T_h = np.pad(Th,1)\n",
    "    T_h[0,0] = h**2\n",
    "    T_h[N,N] = h**2\n",
    "    Ih = sp.diags([1],[0], shape=(N-1, N-1)).toarray()\n",
    "    I_h = np.pad(Ih,1)\n",
    "    # The final A_h matrix is construced here. Because of the h^2 * I_{N+1} identity matrix in the very top left \n",
    "    # corner and bottom right corner I have to change four values manually from zero to 1\n",
    "    A = (1/(h**2))*np.kron(T_h, I_h) + (1/(h**2))*np.kron(I_h, T_h)\n",
    "    A[0,0] = 1\n",
    "    A[N,N] = 1\n",
    "    A[(N+1)**2-N-1,(N+1)**2-N-1] = 1\n",
    "    A[(N+1)**2-1,(N+1)**2-1] = 1\n",
    "    \n",
    "    \n",
    "    # A meshgrid is created here on which I will evalute the source function. This vector is the right size for\n",
    "    # the final result, but it includes every boundary value also, as evaluated through f. This is obviously wrong\n",
    "    # as these boundary values should be evaluated through b, so that has to be adjusted. I therefore immediately \n",
    "    # introduce b1 and b_end as vectors which are the boundary values on the bottom and top of the grid, respectively.\n",
    "    # f is also reshaped here to be a vector, not an array.\n",
    "    x,y = np.mgrid[0: 1: complex(0, N+1), 0: 1: complex(0, N+1)]\n",
    "    x = x.transpose()\n",
    "    y = y.transpose()\n",
    "\n",
    "    f = sourcefunc(x,y)\n",
    "    f = np.reshape(f, (N+1)*(N+1))\n",
    "\n",
    "    x_axis = np.linspace(0, 1, num = N+1)\n",
    "    b1 = boundary(x_axis, 0)\n",
    "    b_end = boundary(x_axis, 1)\n",
    "    \n",
    "    # In this section I overwrite the parts of the f vector that represent boundary terms and next-to-boundary terms.\n",
    "    # In the first loop I overwrite the firts and last parts of f with b1 and b_end, so that the bottom and top of the \n",
    "    # 'grid' are boundary values. In the second loop I overwrite values representing the left and right side of the\n",
    "    # 'grid'. Of course the bottom and left boundaries are just filled with zeros, as sin(xy) is zero when either x\n",
    "    # or y is zero. In the third loop I overwrite the entries which represent positions next to the right boundary. In\n",
    "    # the last loop I overwrite the entries which represent positions right below the top boundary. \n",
    "\n",
    "\n",
    "    for i in range(0, N+1):\n",
    "        f[i] = b1[i]\n",
    "        f[(N+1)*N + i] = b_end[i]\n",
    "\n",
    "    for i in range(1,N):\n",
    "        f[i*(N+1)] = 0\n",
    "        f[i*(N+1)+ N] = boundary(1, i*h)\n",
    "    \n",
    "    for i in range(0,N-1):    \n",
    "        f[2*N+i*(N+1)] = f[2*N+i*(N+1)] + boundary(1, (i+1)*h)/(h**2)\n",
    "    \n",
    "    for i in range(0,N-1):     \n",
    "        f[(N+1)**2-1-2*N+i] = f[(N+1)**2-1-2*N+i] + b_end[i+1]/(h**2)\n",
    "        \n",
    "    u_ex_pre = boundary(x,y)\n",
    "    u_ex = np.reshape(u_ex_pre, (1, (N+1)*(N+1)))\n",
    "        \n",
    "    return A , f , u_ex"
   ]
  },
  {
   "cell_type": "code",
   "execution_count": 46,
   "metadata": {},
   "outputs": [],
   "source": [
    "A , f, u_ex = create_Afuex_2D(sourcefunc, boundary, 4)"
   ]
  },
  {
   "cell_type": "code",
   "execution_count": 47,
   "metadata": {},
   "outputs": [],
   "source": [
    "u = DirSolver(A,f)"
   ]
  },
  {
   "cell_type": "code",
   "execution_count": 48,
   "metadata": {},
   "outputs": [
    {
     "name": "stdout",
     "output_type": "stream",
     "text": [
      "p = 2 : error = 4.367370975033591e-05 time =  0.004481077194213867\n",
      "p = 3 : error = 1.3134443368811866e-05 time =  0.0017838478088378906\n",
      "p = 4 : error = 3.4438607381392927e-06 time =  0.0008158683776855469\n",
      "p = 5 : error = 8.714274507548581e-07 time =  0.00812387466430664\n",
      "p = 6 : error = 2.1851842690878698e-07 time =  0.015425920486450195\n",
      "p = 7 : error = 5.4671060123467896e-08 time =  0.08516788482666016\n"
     ]
    }
   ],
   "source": [
    "import time\n",
    "\n",
    "for i in range(2,8):\n",
    "    A,f,u_ex = create_Afuex_2D(sourcefunc, boundary, i)\n",
    "    A_csr = sp.csr_matrix(A)\n",
    "    t = time.time()\n",
    "    u = la.spsolve(A_csr, f)\n",
    "    t = time.time() - t\n",
    "    error = np.amax(np.absolute(u-u_ex))\n",
    "    print(\"p =\", i, \": error =\", error, \"time = \",t)"
   ]
  },
  {
   "cell_type": "code",
   "execution_count": null,
   "metadata": {},
   "outputs": [],
   "source": [
    "#Todo\n",
    "\n",
    "#1 make effective. Make list of matrix and vectors, then solve ...\n",
    "#2 Make plot of error in inf norm and 1/2^p vs p"
   ]
  }
 ],
 "metadata": {
  "kernelspec": {
   "display_name": "Python 3",
   "language": "python",
   "name": "python3"
  },
  "language_info": {
   "codemirror_mode": {
    "name": "ipython",
    "version": 3
   },
   "file_extension": ".py",
   "mimetype": "text/x-python",
   "name": "python",
   "nbconvert_exporter": "python",
   "pygments_lexer": "ipython3",
   "version": "3.7.6"
  }
 },
 "nbformat": 4,
 "nbformat_minor": 4
}
