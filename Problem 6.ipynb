{
 "cells": [
  {
   "cell_type": "code",
   "execution_count": 3,
   "metadata": {},
   "outputs": [],
   "source": [
    "#import A\n",
    "\n",
    "import numpy as np\n",
    "import matplotlib\n",
    "import matplotlib.pyplot as plt\n",
    "import scipy.sparse as sp\n",
    "import scipy.sparse.linalg as la\n",
    "import matplotlib.ticker as ticker\n",
    "\n",
    "def sourcefunc_2D(x,y):\n",
    "    f = (x**2 + y**2)*np.sin(x*y)\n",
    "    return f\n",
    "\n",
    "def boundary_2D(x,y):\n",
    "    b = np.sin(x*y)\n",
    "    return b\n",
    "\n",
    "def sourcefunc_3D(x,y,z):\n",
    "    f = ((y**2)*(x**2) + (y**2)*(z**2) + (z**2)*(x**2))*np.sin(x*y*z)\n",
    "    return f\n",
    "\n",
    "def boundary_3D(x,y,z):\n",
    "    b = np.sin(x*y*z)\n",
    "    return b"
   ]
  },
  {
   "cell_type": "code",
   "execution_count": 4,
   "metadata": {},
   "outputs": [],
   "source": [
    "def create_Afuex_2D(sourcefunc_2D, boundary_2D, p):\n",
    "\n",
    "    # Here I create the T_h and I_h matrices. These have precisely the same form as in the lecture notes. Some manual\n",
    "    # stuff is done since we are working without elimination of boundary conditions\n",
    "    h = 1/(2**p)\n",
    "    N = 1/h\n",
    "    N = int(N)\n",
    "    Th = sp.diags([-1, 2, -1], [-1, 0, 1], shape=(N-1, N-1)).toarray()\n",
    "    T_h = np.pad(Th,1)\n",
    "    T_h[0,0] = h**2\n",
    "    T_h[N,N] = h**2\n",
    "    Ih = sp.diags([1],[0], shape=(N-1, N-1)).toarray()\n",
    "    I_h = np.pad(Ih,1)\n",
    "    # The final A_h matrix is construced here. Because of the h^2 * I_{N+1} identity matrix in the very top left \n",
    "    # corner and bottom right corner I have to change four values manually from zero to 1\n",
    "    A_2D = (1/(h**2))*np.kron(T_h, I_h) + (1/(h**2))*np.kron(I_h, T_h)\n",
    "    A_2D[0,0] = 1\n",
    "    A_2D[N,N] = 1\n",
    "    A_2D[(N+1)**2-N-1,(N+1)**2-N-1] = 1\n",
    "    A_2D[(N+1)**2-1,(N+1)**2-1] = 1\n",
    "    \n",
    "    \n",
    "    # A meshgrid is created here on which I will evalute the source function. This vector is the right size for\n",
    "    # the final result, but it includes every boundary value also, as evaluated through f. This is obviously wrong\n",
    "    # as these boundary values should be evaluated through b, so that has to be adjusted. I therefore immediately \n",
    "    # introduce b1 and b_end as vectors which are the boundary values on the bottom and top of the grid, respectively.\n",
    "    # f is also reshaped here to be a vector, not an array.\n",
    "    x,y = np.mgrid[0: 1: complex(0, N+1), 0: 1: complex(0, N+1)]\n",
    "    x = x.transpose()\n",
    "    y = y.transpose()\n",
    "\n",
    "    f_2D = sourcefunc_2D(x,y)\n",
    "    f_2D = np.reshape(f_2D, (N+1)*(N+1))\n",
    "\n",
    "    x_axis = np.linspace(0, 1, num = N+1)\n",
    "    b1 = boundary_2D(x_axis, 0)\n",
    "    b_end = boundary_2D(x_axis, 1)\n",
    "    \n",
    "    # In this section I overwrite the parts of the f vector that represent boundary terms and next-to-boundary terms.\n",
    "    # In the first loop I overwrite the first and last parts of f with b1 and b_end, so that the bottom and top of the \n",
    "    # 'grid' are boundary values. In the second loop I overwrite values representing the left and right side of the\n",
    "    # 'grid'. Of course the bottom and left boundaries are just filled with zeros, as sin(xy) is zero when either x\n",
    "    # or y is zero. In the third loop I overwrite the entries which represent positions next to the right boundary. In\n",
    "    # the last loop I overwrite the entries which represent positions right below the top boundary. \n",
    "\n",
    "\n",
    "    for i in range(0, N+1):\n",
    "        f_2D[i] = b1[i]\n",
    "        f_2D[(N+1)*N + i] = b_end[i]\n",
    "\n",
    "    for i in range(1,N):\n",
    "        f_2D[i*(N+1)] = 0\n",
    "        f_2D[i*(N+1)+ N] = boundary_2D(1, i*h)\n",
    "    \n",
    "    for i in range(0,N-1):    \n",
    "        f_2D[2*N+i*(N+1)] = f_2D[2*N+i*(N+1)] + boundary_2D(1, (i+1)*h)/(h**2)\n",
    "    \n",
    "    for i in range(0,N-1):     \n",
    "        f_2D[(N+1)**2-1-2*N+i] = f_2D[(N+1)**2-1-2*N+i] + b_end[i+1]/(h**2)\n",
    "        \n",
    "    u_ex_pre_2D = boundary_2D(x,y)\n",
    "    u_ex_2D = np.reshape(u_ex_pre_2D, (1, (N+1)*(N+1)))\n",
    "    \n",
    "    \n",
    "        \n",
    "    return A_2D , f_2D , u_ex_2D, N"
   ]
  },
  {
   "cell_type": "code",
   "execution_count": 3,
   "metadata": {},
   "outputs": [],
   "source": [
    "#Create array of A,f 's\n",
    "\n",
    "#Create A,f,u_ex for various sizes 2D\n",
    "data_2D = [0,0]\n",
    "for p in range(2,8):\n",
    "    #print(p)\n",
    "    A_2D , f_2D, u_ex_2D, N = create_Afuex_2D(sourcefunc_2D, boundary_2D, p)\n",
    "    #A_3D, f_3D, b_3D , u_ex_3D = create_Afuex_3D(A_2D, sourcefunc_3D, boundary_3D, p)\n",
    "    data_2D.append((A_2D,f_2D,u_ex_2D))"
   ]
  },
  {
   "cell_type": "code",
   "execution_count": 4,
   "metadata": {},
   "outputs": [
    {
     "name": "stderr",
     "output_type": "stream",
     "text": [
      "/Users/bjarkehogdall/opt/anaconda3/lib/python3.7/site-packages/scipy/sparse/linalg/dsolve/linsolve.py:310: SparseEfficiencyWarning: splu requires CSC matrix format\n",
      "  warn('splu requires CSC matrix format', SparseEfficiencyWarning)\n",
      "/Users/bjarkehogdall/opt/anaconda3/lib/python3.7/site-packages/scipy/sparse/linalg/dsolve/linsolve.py:208: SparseEfficiencyWarning: spsolve is more efficient when sparse b is in the CSC matrix format\n",
      "  'is in the CSC matrix format', SparseEfficiencyWarning)\n"
     ]
    }
   ],
   "source": [
    "#Define splitting M matrix for preconditioning\n",
    "\n",
    "import scipy.sparse as sps\n",
    "\n",
    "# M = 1/(w*(2-w))(D-wF)D^(-1)(D-wE) , with -F the upper triangular part of A and -E the lower triangular part!\n",
    "\n",
    "#Choose some A\n",
    "A = data_2D[5][0]\n",
    "f = data_2D[5][1]\n",
    "w = 1.5 #omega\n",
    "#Define D,E,F\n",
    "D = np.diag(np.diag(A))\n",
    "Dinv = np.diag(1/np.diag(A))\n",
    "E = -np.tril(A,-1)\n",
    "F = -np.triu(A,+1)\n",
    "RS = np.matmul(Dinv,D-w*E)\n",
    "M = 1/(w*(2-w))*np.dot(D-w*F,RS)\n",
    "M = sps.csr_matrix(M)\n",
    "Minv = sps.linalg.inv(M)\n",
    "\n",
    "\n",
    "#print(E.toarray())\n"
   ]
  },
  {
   "cell_type": "code",
   "execution_count": 7,
   "metadata": {},
   "outputs": [],
   "source": [
    "#Preconditioned Conjugate Gradient method\n",
    "#With a lower/upper triangular matrix solving Lz=r with forward/backwards sub is cheaper than calculating z=L^(-1)r\n",
    "\n",
    "def PCG(A,f,Minv,StopCrit):\n",
    "    Minv = Minv.toarray()\n",
    "    u = np.zeros(np.size(f))\n",
    "    r = f\n",
    "    residuals = np.array([np.linalg.norm(r,2)])\n",
    "    err = np.linalg.norm(r,2)/np.linalg.norm(f,2)\n",
    "    z = np.dot(Minv,r)\n",
    "    p = z\n",
    "    a = np.dot(r,z) / np.dot(p, np.dot(A,p) )\n",
    "    u = u + a*p\n",
    "    rnew = r - a*np.dot(A,p)\n",
    "    residuals = np.append(residuals,np.linalg.norm(r,2))\n",
    "    while err > StopCrit:\n",
    "        znew = np.dot(Minv,rnew)\n",
    "        b = np.dot(rnew,znew) / np.dot(r,z)\n",
    "        p = znew + b*p\n",
    "        z = znew\n",
    "        r = rnew\n",
    "        a = np.dot(r,z) / np.dot(p, np.dot(A,p) )\n",
    "        u = u + a*p\n",
    "        rnew = r - a*np.dot(A,p)\n",
    "        residuals = np.append(residuals,np.linalg.norm(rnew,2))\n",
    "        err = np.linalg.norm(r,2)/np.linalg.norm(f,2)\n",
    "    return u , residuals\n"
   ]
  },
  {
   "cell_type": "code",
   "execution_count": 18,
   "metadata": {},
   "outputs": [
    {
     "name": "stderr",
     "output_type": "stream",
     "text": [
      "/Users/bjarkehogdall/opt/anaconda3/lib/python3.7/site-packages/scipy/sparse/linalg/dsolve/linsolve.py:310: SparseEfficiencyWarning: splu requires CSC matrix format\n",
      "  warn('splu requires CSC matrix format', SparseEfficiencyWarning)\n",
      "/Users/bjarkehogdall/opt/anaconda3/lib/python3.7/site-packages/scipy/sparse/linalg/dsolve/linsolve.py:208: SparseEfficiencyWarning: spsolve is more efficient when sparse b is in the CSC matrix format\n",
      "  'is in the CSC matrix format', SparseEfficiencyWarning)\n",
      "/Users/bjarkehogdall/opt/anaconda3/lib/python3.7/site-packages/scipy/sparse/linalg/dsolve/linsolve.py:310: SparseEfficiencyWarning: splu requires CSC matrix format\n",
      "  warn('splu requires CSC matrix format', SparseEfficiencyWarning)\n",
      "/Users/bjarkehogdall/opt/anaconda3/lib/python3.7/site-packages/scipy/sparse/linalg/dsolve/linsolve.py:208: SparseEfficiencyWarning: spsolve is more efficient when sparse b is in the CSC matrix format\n",
      "  'is in the CSC matrix format', SparseEfficiencyWarning)\n",
      "/Users/bjarkehogdall/opt/anaconda3/lib/python3.7/site-packages/scipy/sparse/linalg/dsolve/linsolve.py:310: SparseEfficiencyWarning: splu requires CSC matrix format\n",
      "  warn('splu requires CSC matrix format', SparseEfficiencyWarning)\n",
      "/Users/bjarkehogdall/opt/anaconda3/lib/python3.7/site-packages/scipy/sparse/linalg/dsolve/linsolve.py:208: SparseEfficiencyWarning: spsolve is more efficient when sparse b is in the CSC matrix format\n",
      "  'is in the CSC matrix format', SparseEfficiencyWarning)\n",
      "/Users/bjarkehogdall/opt/anaconda3/lib/python3.7/site-packages/scipy/sparse/linalg/dsolve/linsolve.py:310: SparseEfficiencyWarning: splu requires CSC matrix format\n",
      "  warn('splu requires CSC matrix format', SparseEfficiencyWarning)\n",
      "/Users/bjarkehogdall/opt/anaconda3/lib/python3.7/site-packages/scipy/sparse/linalg/dsolve/linsolve.py:208: SparseEfficiencyWarning: spsolve is more efficient when sparse b is in the CSC matrix format\n",
      "  'is in the CSC matrix format', SparseEfficiencyWarning)\n",
      "/Users/bjarkehogdall/opt/anaconda3/lib/python3.7/site-packages/scipy/sparse/linalg/dsolve/linsolve.py:310: SparseEfficiencyWarning: splu requires CSC matrix format\n",
      "  warn('splu requires CSC matrix format', SparseEfficiencyWarning)\n",
      "/Users/bjarkehogdall/opt/anaconda3/lib/python3.7/site-packages/scipy/sparse/linalg/dsolve/linsolve.py:208: SparseEfficiencyWarning: spsolve is more efficient when sparse b is in the CSC matrix format\n",
      "  'is in the CSC matrix format', SparseEfficiencyWarning)\n"
     ]
    },
    {
     "data": {
      "image/png": "[encoded data removed]",
      "text/plain": [
       "<Figure size 720x720 with 5 Axes>"
      ]
     },
     "metadata": {
      "needs_background": "light"
     },
     "output_type": "display_data"
    }
   ],
   "source": [
    "from matplotlib import pyplot as plt\n",
    "\n",
    "fig, axs = plt.subplots(5, figsize=(10, 10))  #Creating the plots\n",
    "fig.subplots_adjust(hspace = 1, wspace=.01)\n",
    "\n",
    "for i in [2,3,4,5,6]:\n",
    "    A = data_2D[i][0]\n",
    "    f = data_2D[i][1]\n",
    "    w = 1.5 #omega\n",
    "    #Define D,E,F\n",
    "    D = np.diag(np.diag(A))\n",
    "    Dinv = np.diag(1/np.diag(A))\n",
    "    E = -np.tril(A,-1)\n",
    "    F = -np.triu(A,+1)\n",
    "    RS = np.matmul(Dinv,D-w*E)\n",
    "    M = 1/(w*(2-w))*np.dot(D-w*F,RS)\n",
    "    M = sps.csr_matrix(M)\n",
    "    Minv = sps.linalg.inv(M)  \n",
    "\n",
    "    u , res = PCG(A,f,Minv,10E-10)  \n",
    "    reducedres = res/np.linalg.norm(f,2)\n",
    "\n",
    "    its = np.size(reducedres)\n",
    "    itx = np.linspace(1,its,its)\n",
    "\n",
    "    axs[i-2].plot(itx,reducedres)\n",
    "    axs[i-2].set(xlabel = \"iterations\", ylabel = \"|r_m|_2/|f^h|_2\",title = \"p = \" + str(i))  #Labels and title\n",
    "    axs[i-2].set_yscale('log')\n",
    "    axs[i-2].grid(True) \n",
    "\n"
   ]
  },
  {
   "cell_type": "code",
   "execution_count": 9,
   "metadata": {},
   "outputs": [
    {
     "data": {
      "image/png": "[encoded data removed]",
      "text/plain": [
       "<Figure size 432x288 with 1 Axes>"
      ]
     },
     "metadata": {
      "needs_background": "light"
     },
     "output_type": "display_data"
    }
   ],
   "source": [
    "u , res = PCG(A,f,Minv,10E-10)\n",
    "reducedres = res/np.linalg.norm(f,2)\n",
    "\n",
    "print(np.linalg.norm(u-data_2D[5][2],np.inf))\n",
    "\n",
    "its = np.size(reducedres)\n",
    "itx = np.linspace(1,its,its)\n",
    "\n",
    "from matplotlib import pyplot as plt\n",
    "\n",
    "fig , ax = plt.subplots()\n",
    "\n",
    "ax.plot(itx,reducedres)\n",
    "ax.plot(xlabel=\"iterations\",ylabel=\"|r_m|/|f_h|\")\n",
    "ax.set_yscale(\"log\")\n"
   ]
  },
  {
   "cell_type": "code",
   "execution_count": 140,
   "metadata": {},
   "outputs": [],
   "source": [
    "#Import forward and backward substitutions and define inverse diagonal matrix vector product\n",
    "\n",
    "def Forsub(A,f):\n",
    "    N = np.shape(A)[0]\n",
    "    y = np.zeros(N)\n",
    "    y[0] = np.array(f[0]/A[0,0]) #Manually add first element\n",
    "    L = A.astype(float)\n",
    "    for i in range(1,N):\n",
    "        y[i] = (f[i]-np.dot(L[i,:i],y[:i]))/A[i,i]\n",
    "    return y\n",
    "\n",
    "def Backsub(A,y):\n",
    "    N = np.size(y)\n",
    "    U = A.astype(float)\n",
    "    u = np.zeros(N)\n",
    "    u[-1] = y[-1]/U[-1,-1]   #manually add last element to u\n",
    "    for i in reversed(range(N-1)):\n",
    "        u[i] = ( y[i]-np.dot(U[i,(i+1):],u[(i+1):]) )/U[i,i]\n",
    "    return u\n",
    "\n",
    "def diag_inverse_prod(D,v):  #might not need this we'll just use y = w/np.diag(A)\n",
    "    for i in range(np.size(v)):\n",
    "        v[i] = v[i] / D[i,i]\n",
    "    return v\n",
    "\n",
    "def SSOR_precondition(A,r,omega): #Define the method to solve for z in PCG\n",
    "    D = np.diag(A)\n",
    "    E = -np.tril(A,-1)\n",
    "    F = -np.triu(A,1)\n",
    "    y = Backsub(np.diag(D)-omega*F,omega*(2-omega)*r)\n",
    "    #print(\"y:\",y)\n",
    "    w = y*D\n",
    "    z = Forsub(np.diag(D)-omega*E,w)\n",
    "    #print(\"z:\",z)\n",
    "    return z\n"
   ]
  },
  {
   "cell_type": "code",
   "execution_count": 143,
   "metadata": {},
   "outputs": [
    {
     "name": "stdout",
     "output_type": "stream",
     "text": [
      "[-0.27539062  0.22324219  0.63786621]\n"
     ]
    }
   ],
   "source": [
    "#Test\n",
    "\n",
    "M = np.array([[8,2,3],[2,10,1],[3,1,12]])\n",
    "V = np.array([1,3,9])\n",
    "\n",
    "print(SSOR_precondition(M,V,1.5))\n",
    "\n",
    "#print(  V / np.diag(D))"
   ]
  },
  {
   "cell_type": "code",
   "execution_count": 144,
   "metadata": {},
   "outputs": [
    {
     "name": "stdout",
     "output_type": "stream",
     "text": [
      "[-0.27539062  0.22324219  0.63786621]\n"
     ]
    }
   ],
   "source": [
    "#Define D,E,F\n",
    "\n",
    "M = np.array([[8,2,3],[2,10,1],[3,1,12]])\n",
    "V = np.array([1,3,9])\n",
    "\n",
    "w = 1.5\n",
    "D = np.diag(np.diag(M))\n",
    "Dinv = np.diag(1/np.diag(M))\n",
    "E = -np.tril(M,-1)\n",
    "F = -np.triu(M,+1)\n",
    "RS = np.matmul(Dinv,D-w*E)\n",
    "M = 1/(w*(2-w))*np.dot(D-w*F,RS)\n",
    "Minv = np.linalg.inv(M) \n",
    "\n",
    "print( np.dot(Minv,V) )"
   ]
  },
  {
   "cell_type": "code",
   "execution_count": 116,
   "metadata": {},
   "outputs": [
    {
     "name": "stdout",
     "output_type": "stream",
     "text": [
      "[0.125  0.1875]\n"
     ]
    }
   ],
   "source": [
    "M = np.array([[3,1],[1,3]])\n",
    "V = np.array([1,1])\n",
    "\n",
    "print(SSOR_precondition(M,V,1.5))"
   ]
  },
  {
   "cell_type": "code",
   "execution_count": null,
   "metadata": {},
   "outputs": [],
   "source": []
  }
 ],
 "metadata": {
  "interpreter": {
   "hash": "da01acbb3f86c01b08d83442cc70a14828e705e39e71fa1461232a8bfa59ad4f"
  },
  "kernelspec": {
   "display_name": "Python 3.7.6 64-bit ('base': conda)",
   "language": "python",
   "name": "python3"
  },
  "language_info": {
   "codemirror_mode": {
    "name": "ipython",
    "version": 3
   },
   "file_extension": ".py",
   "mimetype": "text/x-python",
   "name": "python",
   "nbconvert_exporter": "python",
   "pygments_lexer": "ipython3",
   "version": "3.7.6"
  },
  "orig_nbformat": 4
 },
 "nbformat": 4,
 "nbformat_minor": 2
}
