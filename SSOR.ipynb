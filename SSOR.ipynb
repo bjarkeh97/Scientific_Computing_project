{
 "cells": [
  {
   "cell_type": "code",
   "execution_count": 61,
   "metadata": {},
   "outputs": [],
   "source": [
    "#Gauss-Seidel method\n",
    "#Works for SPD or strictly diagonally dominant matrices\n",
    "\n",
    "import numpy as np\n",
    "\n",
    "def GauSeiIT(A,u,f):\n",
    "    N = np.size(u) \n",
    "    u[0] = (f[0] - np.dot(A[0,1:],u[1:]))/A[0,0] #Do first and last steps manually \n",
    "    for i in range(1,N-1): #range(a,b) = a,a+1,...,b-1\n",
    "        # u[a:b] = [ u[a] , ... , u[b-1] ]\n",
    "        u[i] = (f[i]-np.dot(A[i,:i],u[:i])-np.dot(A[i,i+1:],u[i+1:]))/A[i,i] #algorithm\n",
    "    u[-1] = (f[-1]-np.dot(A[-1,:-1],u[:-1]))/A[-1,-1] #last step\n",
    "    return u\n",
    "\n",
    "def GauSei(A,u,f,n): #Do n steps of Gauss-Seidel\n",
    "    u0 = u\n",
    "    for i in range(n):\n",
    "        #print(u0)\n",
    "        u0 = GauSeiIT(A,u0,f)\n",
    "    return u0\n"
   ]
  },
  {
   "cell_type": "code",
   "execution_count": 81,
   "metadata": {},
   "outputs": [],
   "source": [
    "#SOR method\n",
    "\n",
    "import numpy as np\n",
    "\n",
    "def SORit(A,u,w,f):\n",
    "    N = np.size(u)\n",
    "    s0 = u[0]\n",
    "    u[0] = (f[0] - np.dot(A[0,1:],u[1:]))/A[0,0]  #First step manually\n",
    "    u[0] = (1-w)*s0+w*u[0]\n",
    "    for i in range(1,N-1): #Do N-2 steps automatically following algorithm\n",
    "        s = u[i]\n",
    "        u[i] = (f[i]-np.dot(A[i,:i],u[:i])-np.dot(A[i,i+1:],u[i+1:]))/A[i,i]\n",
    "        u[i] = (1-w)*s+w*u[i]\n",
    "    sN = u[-1] #Do last step manually\n",
    "    u[-1] = (f[-1]-np.dot(A[-1,:-1],u[:-1]))/A[-1,-1]\n",
    "    u[-1] = (1-w)*sN+w*u[-1]\n",
    "    return u\n",
    "\n",
    "def SOR(A,u,w,f,N):\n",
    "    u0 = u\n",
    "    for i in range(N):\n",
    "        u0 = SORit(A,u0,w,f)\n",
    "    return u0"
   ]
  },
  {
   "cell_type": "code",
   "execution_count": 82,
   "metadata": {},
   "outputs": [],
   "source": [
    "#SSOR\n",
    "#Same method but with a forward and backwards SOR\n",
    "\n",
    "def SORBWit(A,u,w,f): \n",
    "    N = np.size(u)\n",
    "    sN = u[-1] #Do last step manually\n",
    "    u[-1] = (f[-1]-np.dot(A[-1,:-1],u[:-1]))/A[-1,-1]\n",
    "    u[-1] = (1-w)*sN+w*u[-1]\n",
    "    for i in reversed(range(1,N-1)): #Do N-2 steps automatically following algorithm but reversed\n",
    "        s = u[i]\n",
    "        u[i] = (f[i]-np.dot(A[i,:i],u[:i])-np.dot(A[i,i+1:],u[i+1:]))/A[i,i]\n",
    "        u[i] = (1-w)*s+w*u[i]\n",
    "    s0 = u[0]\n",
    "    u[0] = (f[0] - np.dot(A[0,1:],u[1:]))/A[0,0]  #First step manually\n",
    "    u[0] = (1-w)*s0+w*u[0]\n",
    "    return u\n",
    "\n",
    "def SSOR(A,u,w,f,N):\n",
    "    u0 = u\n",
    "    for i in range(N):\n",
    "        u0 = SORit(A,u0,w,f)\n",
    "        u0 = SORBWit(A,u0,w,f)\n",
    "    return u0"
   ]
  },
  {
   "cell_type": "code",
   "execution_count": 87,
   "metadata": {},
   "outputs": [
    {
     "name": "stdout",
     "output_type": "stream",
     "text": [
      "solution:  [0.69412415 0.07888342 0.72534008 0.48912666 0.1029857 ]\n",
      "GS:  [0.69412415 0.07888342 0.72534008 0.48912666 0.1029857 ]\n",
      "SOR:  [0.69412416 0.07888347 0.72534013 0.48912657 0.10298572]\n",
      "SSOR:  [0.69412415 0.07888342 0.72534008 0.48912666 0.1029857 ]\n",
      "numpy:  [0.69412415 0.07888342 0.72534008 0.48912666 0.1029857 ]\n"
     ]
    }
   ],
   "source": [
    "#For testing methods on SPD matrix\n",
    "#Create random matrix and mupltiply with transpose to have SPD matrix:\n",
    "\n",
    "msize = 5\n",
    "M = np.random.rand(msize,msize)\n",
    "A = np.dot(M,M.transpose()) + np.eye(msize)*msize #diagonally dominant to make it positive definite\n",
    "#print(A)\n",
    "usol = np.random.rand(msize)\n",
    "print(\"solution: \",usol)\n",
    "f = np.matmul(A,usol)\n",
    "\n",
    "ugs = GauSei(A,np.zeros(msize),f,500)\n",
    "usor = SOR(A,np.zeros(msize),0.5,f,30)\n",
    "ussor = SSOR(A,np.zeros(msize),0.5,f,500)\n",
    "solution = np.linalg.solve(A,f)\n",
    "\n",
    "print(\"GS: \", ugs)\n",
    "print(\"SOR: \", usor)\n",
    "print(\"SSOR: \", ussor)\n",
    "print(\"numpy: \", solution)\n"
   ]
  },
  {
   "cell_type": "code",
   "execution_count": 84,
   "metadata": {},
   "outputs": [
    {
     "name": "stdout",
     "output_type": "stream",
     "text": [
      "GS:  [-0.06097560975609756, 0.9939024390243902]\n",
      "SOR:  [-0.06097560976345765, 0.9939024390257305]\n",
      "SSOR:  [-0.06097560975609756, 0.9939024390243902]\n"
     ]
    }
   ],
   "source": [
    "M = np.array([[16,4],[-1,10]])\n",
    "b = np.array([3,10])\n",
    "ugs = GauSei(M,[0,0],b,38)\n",
    "usor = SOR(M,[0,0],0.5,b,38)\n",
    "ussor = SSOR(M,[0,0],0.5,b,50)\n",
    "\n",
    "print(\"GS: \", ugs)\n",
    "print(\"SOR: \", usor)\n",
    "print(\"SSOR: \", ussor)\n"
   ]
  },
  {
   "cell_type": "code",
   "execution_count": 85,
   "metadata": {},
   "outputs": [
    {
     "name": "stdout",
     "output_type": "stream",
     "text": [
      "GS:  [ 3.57995889e+25  9.48276313e+25 -1.94702176e+26 -2.79742964e+26]\n",
      "SOR:  [ 3. -2.  2.  1.]\n",
      "SSOR:  [-6.94490161e+13 -1.60754534e+14 -9.29427119e+13 -4.60699041e+13]\n",
      "numpy:  [ 3. -2.  2.  1.]\n",
      "test f:  [ 4.40614741e+14 -3.07723134e+14 -1.72642185e+15  3.50800447e+14]\n"
     ]
    }
   ],
   "source": [
    "M = np.array([[4,-1,-6,0],[-5,-4,10,8],[0,9,4,-2],[1,0,-7,5]])\n",
    "f = np.array([2,21,-12,-6])\n",
    "\n",
    "ugs = GauSei(M,np.zeros(4),f,30)\n",
    "usor = SOR(M,np.zeros(4),0.5,f,50)\n",
    "ussor = SSOR(M,np.zeros(4),0.5,f,30)\n",
    "solution = np.linalg.solve(M,f)\n",
    "\n",
    "print(\"GS: \", ugs)\n",
    "print(\"SOR: \", usor)\n",
    "print(\"SSOR: \", ussor)\n",
    "print(\"numpy: \", solution)\n",
    "\n",
    "print(\"test f: \", np.dot(M,ussor))"
   ]
  },
  {
   "cell_type": "code",
   "execution_count": null,
   "metadata": {},
   "outputs": [],
   "source": []
  },
  {
   "cell_type": "code",
   "execution_count": null,
   "metadata": {},
   "outputs": [],
   "source": []
  }
 ],
 "metadata": {
  "kernelspec": {
   "display_name": "Python 3",
   "language": "python",
   "name": "python3"
  },
  "language_info": {
   "codemirror_mode": {
    "name": "ipython",
    "version": 3
   },
   "file_extension": ".py",
   "mimetype": "text/x-python",
   "name": "python",
   "nbconvert_exporter": "python",
   "pygments_lexer": "ipython3",
   "version": "3.7.6"
  }
 },
 "nbformat": 4,
 "nbformat_minor": 4
}
