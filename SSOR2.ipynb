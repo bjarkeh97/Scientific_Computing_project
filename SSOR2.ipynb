{
 "cells": [
  {
   "cell_type": "code",
   "execution_count": 243,
   "metadata": {},
   "outputs": [],
   "source": [
    "#Gauss-Seidel method\n",
    "#Works for SPD or strictly diagonally dominant matrices\n",
    "\n",
    "import numpy as np\n",
    "\n",
    "def GauSeiIT(A,u,f):\n",
    "    N = np.size(u) \n",
    "    u[0] = (f[0] - np.dot(A[0,1:],u[1:]))/A[0,0] #Do first and last steps manually \n",
    "    for i in range(1,N-1):\n",
    "        u[i] = (f[i]-np.dot(A[i,:i-1],u[:i-1])-np.dot(A[i,i+1:],u[i+1:]))/A[i,i] #algorithm\n",
    "    u[N-1] = (f[N-1]-np.dot(A[N-1,:N-2],u[:N-2]))/A[N-1,N-1] #last step\n",
    "    return u\n",
    "\n",
    "def GauSei(A,u,f,n): #Do n steps of Gauss-Seidel\n",
    "    u0 = u\n",
    "    for i in range(n):\n",
    "        #print(u0)\n",
    "        u0 = GauSeiIT(A,u0,f)\n",
    "    return u0\n"
   ]
  },
  {
   "cell_type": "code",
   "execution_count": 234,
   "metadata": {},
   "outputs": [],
   "source": [
    "#SOR method\n",
    "\n",
    "import numpy as np\n",
    "\n",
    "def SORit(A,u,w,f):\n",
    "    N = np.size(u)\n",
    "    s0 = u[0]\n",
    "    u[0] = (f[0] - np.dot(A[0,1:],u[1:]))/A[0,0]  #First step manually\n",
    "    u[0] = (1-w)*s0+w*u[0]\n",
    "    for i in range(1,N-1): #Do N-2 steps automatically following algorithm\n",
    "        s = u[i]\n",
    "        u[i] = (f[i]-np.dot(A[i,:i-1],u[:i-1])-np.dot(A[i,i+1:],u[i+1:]))/A[i,i]\n",
    "        u[i] = (1-w)*s+w*u[i]\n",
    "    sN = u[N-1] #Do last step manually\n",
    "    u[N-1] = (f[N-1]-np.dot(A[N-1,:N-2],u[:N-2]))/A[N-1,N-1]\n",
    "    u[N-1] = (1-w)*sN+w*u[N-1]\n",
    "    return u\n",
    "\n",
    "def SOR(A,u,w,f,N):\n",
    "    u0 = u\n",
    "    for i in range(N):\n",
    "        u0 = SORit(A,u0,w,f)\n",
    "    return u0"
   ]
  },
  {
   "cell_type": "code",
   "execution_count": 240,
   "metadata": {},
   "outputs": [],
   "source": [
    "#SSOR\n",
    "#Same method but with a forward and backwards SOR\n",
    "\n",
    "def SORBWit(A,u,w,f):\n",
    "    N = np.size(u)\n",
    "    sN = u[N-1] #Do last step manually\n",
    "    u[N-1] = (f[N-1]-np.dot(A[N-1,:N-2],u[:N-2]))/A[N-1,N-1]\n",
    "    u[N-1] = (1-w)*sN+w*u[N-1]\n",
    "    for i in reversed(range(1,N-1)): #Do N-2 steps automatically following algorithm but reversed\n",
    "        s = u[i]\n",
    "        u[i] = (f[i]-np.dot(A[i,:i-1],u[:i-1])-np.dot(A[i,i+1:],u[i+1:]))/A[i,i]\n",
    "        u[i] = (1-w)*s+w*u[i]\n",
    "    s0 = u[0]\n",
    "    u[0] = (f[0] - np.dot(A[0,1:],u[1:]))/A[0,0]  #First step manually\n",
    "    u[0] = (1-w)*s0+w*u[0]\n",
    "    return u\n",
    "\n",
    "def SSOR(A,u,w,f,N):\n",
    "    u0 = u\n",
    "    for i in range(N):\n",
    "        u0 = SORit(A,u0,w,f)\n",
    "        u0 = SORBWit(A,u0,w,f)\n",
    "    return u0"
   ]
  },
  {
   "cell_type": "code",
   "execution_count": 274,
   "metadata": {},
   "outputs": [
    {
     "name": "stdout",
     "output_type": "stream",
     "text": [
      "solution:  [0.75041749 0.1018173  0.40208361 0.9695403  0.11131572 0.55289061\n",
      " 0.10699426 0.19981147 0.6548451  0.89888457]\n",
      "GS:  [0.67068835 0.17759812 0.38774952 0.98926071 0.29470234 0.56133165\n",
      " 0.15556347 0.17758894 0.61264398 1.02828369]\n",
      "SOR:  [0.68500229 0.21637395 0.41733515 0.98010936 0.30305505 0.57215642\n",
      " 0.16866687 0.18696382 0.60562962 0.96213137]\n",
      "SSOR:  [0.67068835 0.17759812 0.38774952 0.98926071 0.29470234 0.56133165\n",
      " 0.15556347 0.17758894 0.61264398 1.02828369]\n",
      "numpy:  [0.75041749 0.1018173  0.40208361 0.9695403  0.11131572 0.55289061\n",
      " 0.10699426 0.19981147 0.6548451  0.89888457]\n"
     ]
    }
   ],
   "source": [
    "#For testing methods on SPD matrix\n",
    "#Create random matrix and mupltiply with transpose to have SPD matrix:\n",
    "\n",
    "msize = 10\n",
    "M = np.random.rand(msize,msize)\n",
    "A = np.dot(M,M.transpose()) + np.eye(msize)*msize #diagonally dominant to make it positive definite\n",
    "#print(A)\n",
    "usol = np.random.rand(msize)\n",
    "print(\"solution: \",usol)\n",
    "f = np.matmul(A,usol)\n",
    "\n",
    "ugs = GauSei(A,np.zeros(msize),f,500)\n",
    "usor = SOR(A,np.zeros(msize),0.5,f,5)\n",
    "ussor = SSOR(A,np.zeros(msize),0.5,f,500)\n",
    "solution = np.linalg.solve(A,f)\n",
    "\n",
    "print(\"GS: \", ugs)\n",
    "print(\"SOR: \", usor)\n",
    "print(\"SSOR: \", ussor)\n",
    "print(\"numpy: \", solution)\n"
   ]
  },
  {
   "cell_type": "code",
   "execution_count": 251,
   "metadata": {},
   "outputs": [
    {
     "name": "stdout",
     "output_type": "stream",
     "text": [
      "GS:  [-0.0625, 1.0]\n",
      "SOR:  [-0.06249999999998884, 0.9999999999999991]\n",
      "SSOR:  [-0.0625, 1.0]\n"
     ]
    }
   ],
   "source": [
    "M = np.array([[16,4],[-1,10]])\n",
    "b = np.array([3,10])\n",
    "ugs = GauSei(M,[0,0],b,5)\n",
    "usor = SOR(M,[0,0],0.5,b,50)\n",
    "ussor = SSOR(M,[0,0],0.5,b,50)\n",
    "\n",
    "print(\"GS: \", ugs)\n",
    "print(\"SOR: \", usor)\n",
    "print(\"SSOR: \", ussor)\n"
   ]
  },
  {
   "cell_type": "code",
   "execution_count": null,
   "metadata": {},
   "outputs": [],
   "source": []
  }
 ],
 "metadata": {
  "kernelspec": {
   "display_name": "Python 3",
   "language": "python",
   "name": "python3"
  },
  "language_info": {
   "codemirror_mode": {
    "name": "ipython",
    "version": 3
   },
   "file_extension": ".py",
   "mimetype": "text/x-python",
   "name": "python",
   "nbconvert_exporter": "python",
   "pygments_lexer": "ipython3",
   "version": "3.7.6"
  }
 },
 "nbformat": 4,
 "nbformat_minor": 4
}
