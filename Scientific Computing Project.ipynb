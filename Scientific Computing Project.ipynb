{
 "cells": [
  {
   "cell_type": "code",
   "execution_count": 15,
   "metadata": {},
   "outputs": [],
   "source": [
    "import numpy as np\n",
    "from matplotlib import pyplot as plt\n",
    "from scipy.sparse import diags\n",
    "from sympy import symbols as symb\n",
    "from scipy import linalg"
   ]
  },
  {
   "cell_type": "code",
   "execution_count": 38,
   "metadata": {},
   "outputs": [],
   "source": [
    "#LU factorization\n",
    "\n",
    "def LUfunc(M):\n",
    "    A = M.astype(float) #To make sure we have float division\n",
    "    N = np.shape(A)[0]\n",
    "    for k in range(N-1):\n",
    "        if A[k,k] == 0:\n",
    "            print(\"Breakdown due to: Zero pivot\")\n",
    "            break\n",
    "        for i in range(k+1,N):\n",
    "            A[i,k] = A[i,k]/A[k,k]\n",
    "            for j in range(k+1,N):\n",
    "                A[i,j] = A[i,j] - A[i,k]*A[k,j]\n",
    "    return A\n",
    "\n",
    "def LUfuncSparse(M):\n",
    "    A = sparse.csr_matrix(M) #To make sure we have float division\n",
    "    N = np.shape(M)[0]\n",
    "    for k in range(N-1):\n",
    "        if A[k,k] == 0:\n",
    "            print(\"Breakdown due to: Zero pivot\")\n",
    "            break\n",
    "        for i in range(k+1,N):\n",
    "            A[i,k] = A[i,k]/A[k,k]\n",
    "            for j in range(k+1,N):\n",
    "                A[i,j] = A[i,j] - A[i,k]*A[k,j]\n",
    "    return A\n",
    "\n",
    "def LUfunc2(A):\n",
    "    L = np.tril(A,-1)+np.eye(np.shape(A)[0])\n",
    "    U = np.triu(A)\n",
    "    return L , U"
   ]
  },
  {
   "cell_type": "code",
   "execution_count": 18,
   "metadata": {},
   "outputs": [],
   "source": [
    "#Substitution\n",
    "\n",
    "#Forward     Works for a LU decomposed matrix from LUfunc      L is NxN matrix, f is N vector\n",
    "def Forsub(A,f):\n",
    "    N = np.shape(A)[0]\n",
    "    y = np.array([f[0]]) #first element is always just f[0] due to lower tridiagonal\n",
    "    L = A.astype(float)\n",
    "    for i in range(N):\n",
    "        L[i,i] = 1   #Make sure diagonal is 1\n",
    "    for i in range(1,N):\n",
    "        y=np.append(y,f[i]-np.dot(L[i,:i],y[:i]))\n",
    "    return y\n",
    "    \n",
    "#backward    Use y from Forsub\n",
    "def Backsub(A,y):\n",
    "    N = np.shape(A)[0]\n",
    "    U = A.astype(float)\n",
    "    u = np.zeros(N)\n",
    "    u[-1] = y[-1]/U[-1,-1]   #manually add first element to u\n",
    "    for i in reversed(range(N-1)):\n",
    "        u[i] = ( y[i]-np.dot(U[i,i:N],u[i:N]) )/U[i,i]\n",
    "    return u"
   ]
  },
  {
   "cell_type": "code",
   "execution_count": 39,
   "metadata": {},
   "outputs": [],
   "source": [
    "#Final direct solver\n",
    "\n",
    "def DirSolver(A,f):\n",
    "    LU = LUfunc(A)\n",
    "    y = Forsub(LU,f)\n",
    "    u = Backsub(LU,y)\n",
    "    return u\n",
    "\n",
    "def DirSolverSparse(A,f):\n",
    "    LU = LUfuncSparse(A)\n",
    "    y = Forsub(LU,f)\n",
    "    u = Backsub(LU,y)\n",
    "    return u"
   ]
  },
  {
   "cell_type": "code",
   "execution_count": 24,
   "metadata": {},
   "outputs": [
    {
     "name": "stdout",
     "output_type": "stream",
     "text": [
      "[5. 7. 8.]\n",
      "[ True  True  True]\n"
     ]
    }
   ],
   "source": [
    "#Example:\n",
    "A = np.array([[3,4,2],[1,2,4],[8,7,6]])\n",
    "f = np.array([59,51,137])\n",
    "solution = np.array([5.,7.,8.])\n",
    "\n",
    "u = DirSolver(A,f)\n",
    "print(u)\n",
    "print(u.round(3)==solution.round(3))"
   ]
  },
  {
   "cell_type": "code",
   "execution_count": 23,
   "metadata": {},
   "outputs": [],
   "source": [
    "#Example2:\n",
    "N = 300\n",
    "C = np.random.rand(N,N)\n",
    "#print(C)\n",
    "solution = np.random.rand(N)\n",
    "#print(solution)\n",
    "h = np.matmul(C,solution)\n",
    "\n",
    "u = DirSolver(C,h)\n",
    "#print(u)\n",
    "#print(solution)\n",
    "#print(u.round(4)==solution.round(4))"
   ]
  },
  {
   "cell_type": "code",
   "execution_count": 40,
   "metadata": {},
   "outputs": [
    {
     "ename": "NotImplementedError",
     "evalue": "subtracting a sparse matrix from a nonzero scalar is not supported",
     "output_type": "error",
     "traceback": [
      "\u001b[0;31m---------------------------------------------------------------------------\u001b[0m",
      "\u001b[0;31mNotImplementedError\u001b[0m                       Traceback (most recent call last)",
      "\u001b[0;32m<ipython-input-40-61b16bd2c749>\u001b[0m in \u001b[0;36m<module>\u001b[0;34m\u001b[0m\n\u001b[1;32m     22\u001b[0m         \u001b[0mj\u001b[0m \u001b[0;34m=\u001b[0m \u001b[0mnp\u001b[0m\u001b[0;34m.\u001b[0m\u001b[0mrandom\u001b[0m\u001b[0;34m.\u001b[0m\u001b[0mrand\u001b[0m\u001b[0;34m(\u001b[0m\u001b[0mi\u001b[0m\u001b[0;34m)\u001b[0m\u001b[0;34m\u001b[0m\u001b[0;34m\u001b[0m\u001b[0m\n\u001b[1;32m     23\u001b[0m         \u001b[0mt1\u001b[0m \u001b[0;34m=\u001b[0m \u001b[0mtime\u001b[0m\u001b[0;34m.\u001b[0m\u001b[0mtime\u001b[0m\u001b[0;34m(\u001b[0m\u001b[0;34m)\u001b[0m\u001b[0;34m\u001b[0m\u001b[0;34m\u001b[0m\u001b[0m\n\u001b[0;32m---> 24\u001b[0;31m         \u001b[0mu\u001b[0m \u001b[0;34m=\u001b[0m \u001b[0mDirSolverSparse\u001b[0m\u001b[0;34m(\u001b[0m\u001b[0mD\u001b[0m\u001b[0;34m,\u001b[0m\u001b[0mj\u001b[0m\u001b[0;34m)\u001b[0m\u001b[0;34m\u001b[0m\u001b[0;34m\u001b[0m\u001b[0m\n\u001b[0m\u001b[1;32m     25\u001b[0m         \u001b[0mt2\u001b[0m \u001b[0;34m=\u001b[0m \u001b[0mtime\u001b[0m\u001b[0;34m.\u001b[0m\u001b[0mtime\u001b[0m\u001b[0;34m(\u001b[0m\u001b[0;34m)\u001b[0m\u001b[0;34m\u001b[0m\u001b[0;34m\u001b[0m\u001b[0m\n\u001b[1;32m     26\u001b[0m         \u001b[0mtimeavg\u001b[0m \u001b[0;34m=\u001b[0m \u001b[0mnp\u001b[0m\u001b[0;34m.\u001b[0m\u001b[0mappend\u001b[0m\u001b[0;34m(\u001b[0m\u001b[0mtimeavg\u001b[0m\u001b[0;34m,\u001b[0m\u001b[0mt2\u001b[0m\u001b[0;34m-\u001b[0m\u001b[0mt1\u001b[0m\u001b[0;34m)\u001b[0m\u001b[0;34m\u001b[0m\u001b[0;34m\u001b[0m\u001b[0m\n",
      "\u001b[0;32m<ipython-input-39-aedffeaad9ad>\u001b[0m in \u001b[0;36mDirSolverSparse\u001b[0;34m(A, f)\u001b[0m\n\u001b[1;32m      9\u001b[0m \u001b[0;32mdef\u001b[0m \u001b[0mDirSolverSparse\u001b[0m\u001b[0;34m(\u001b[0m\u001b[0mA\u001b[0m\u001b[0;34m,\u001b[0m\u001b[0mf\u001b[0m\u001b[0;34m)\u001b[0m\u001b[0;34m:\u001b[0m\u001b[0;34m\u001b[0m\u001b[0;34m\u001b[0m\u001b[0m\n\u001b[1;32m     10\u001b[0m     \u001b[0mLU\u001b[0m \u001b[0;34m=\u001b[0m \u001b[0mLUfuncSparse\u001b[0m\u001b[0;34m(\u001b[0m\u001b[0mA\u001b[0m\u001b[0;34m)\u001b[0m\u001b[0;34m\u001b[0m\u001b[0;34m\u001b[0m\u001b[0m\n\u001b[0;32m---> 11\u001b[0;31m     \u001b[0my\u001b[0m \u001b[0;34m=\u001b[0m \u001b[0mForsub\u001b[0m\u001b[0;34m(\u001b[0m\u001b[0mLU\u001b[0m\u001b[0;34m,\u001b[0m\u001b[0mf\u001b[0m\u001b[0;34m)\u001b[0m\u001b[0;34m\u001b[0m\u001b[0;34m\u001b[0m\u001b[0m\n\u001b[0m\u001b[1;32m     12\u001b[0m     \u001b[0mu\u001b[0m \u001b[0;34m=\u001b[0m \u001b[0mBacksub\u001b[0m\u001b[0;34m(\u001b[0m\u001b[0mLU\u001b[0m\u001b[0;34m,\u001b[0m\u001b[0my\u001b[0m\u001b[0;34m)\u001b[0m\u001b[0;34m\u001b[0m\u001b[0;34m\u001b[0m\u001b[0m\n\u001b[1;32m     13\u001b[0m     \u001b[0;32mreturn\u001b[0m \u001b[0mu\u001b[0m\u001b[0;34m\u001b[0m\u001b[0;34m\u001b[0m\u001b[0m\n",
      "\u001b[0;32m<ipython-input-18-5a886321b788>\u001b[0m in \u001b[0;36mForsub\u001b[0;34m(A, f)\u001b[0m\n\u001b[1;32m      9\u001b[0m         \u001b[0mL\u001b[0m\u001b[0;34m[\u001b[0m\u001b[0mi\u001b[0m\u001b[0;34m,\u001b[0m\u001b[0mi\u001b[0m\u001b[0;34m]\u001b[0m \u001b[0;34m=\u001b[0m \u001b[0;36m1\u001b[0m   \u001b[0;31m#Make sure diagonal is 1\u001b[0m\u001b[0;34m\u001b[0m\u001b[0;34m\u001b[0m\u001b[0m\n\u001b[1;32m     10\u001b[0m     \u001b[0;32mfor\u001b[0m \u001b[0mi\u001b[0m \u001b[0;32min\u001b[0m \u001b[0mrange\u001b[0m\u001b[0;34m(\u001b[0m\u001b[0;36m1\u001b[0m\u001b[0;34m,\u001b[0m\u001b[0mN\u001b[0m\u001b[0;34m)\u001b[0m\u001b[0;34m:\u001b[0m\u001b[0;34m\u001b[0m\u001b[0;34m\u001b[0m\u001b[0m\n\u001b[0;32m---> 11\u001b[0;31m         \u001b[0my\u001b[0m\u001b[0;34m=\u001b[0m\u001b[0mnp\u001b[0m\u001b[0;34m.\u001b[0m\u001b[0mappend\u001b[0m\u001b[0;34m(\u001b[0m\u001b[0my\u001b[0m\u001b[0;34m,\u001b[0m\u001b[0mf\u001b[0m\u001b[0;34m[\u001b[0m\u001b[0mi\u001b[0m\u001b[0;34m]\u001b[0m\u001b[0;34m-\u001b[0m\u001b[0mnp\u001b[0m\u001b[0;34m.\u001b[0m\u001b[0mdot\u001b[0m\u001b[0;34m(\u001b[0m\u001b[0mL\u001b[0m\u001b[0;34m[\u001b[0m\u001b[0mi\u001b[0m\u001b[0;34m,\u001b[0m\u001b[0;34m:\u001b[0m\u001b[0mi\u001b[0m\u001b[0;34m]\u001b[0m\u001b[0;34m,\u001b[0m\u001b[0my\u001b[0m\u001b[0;34m[\u001b[0m\u001b[0;34m:\u001b[0m\u001b[0mi\u001b[0m\u001b[0;34m]\u001b[0m\u001b[0;34m)\u001b[0m\u001b[0;34m)\u001b[0m\u001b[0;34m\u001b[0m\u001b[0;34m\u001b[0m\u001b[0m\n\u001b[0m\u001b[1;32m     12\u001b[0m     \u001b[0;32mreturn\u001b[0m \u001b[0my\u001b[0m\u001b[0;34m\u001b[0m\u001b[0;34m\u001b[0m\u001b[0m\n\u001b[1;32m     13\u001b[0m \u001b[0;34m\u001b[0m\u001b[0m\n",
      "\u001b[0;32m~/opt/anaconda3/lib/python3.7/site-packages/scipy/sparse/base.py\u001b[0m in \u001b[0;36m__rsub__\u001b[0;34m(self, other)\u001b[0m\n\u001b[1;32m    447\u001b[0m             \u001b[0;32mif\u001b[0m \u001b[0mother\u001b[0m \u001b[0;34m==\u001b[0m \u001b[0;36m0\u001b[0m\u001b[0;34m:\u001b[0m\u001b[0;34m\u001b[0m\u001b[0;34m\u001b[0m\u001b[0m\n\u001b[1;32m    448\u001b[0m                 \u001b[0;32mreturn\u001b[0m \u001b[0;34m-\u001b[0m\u001b[0mself\u001b[0m\u001b[0;34m.\u001b[0m\u001b[0mcopy\u001b[0m\u001b[0;34m(\u001b[0m\u001b[0;34m)\u001b[0m\u001b[0;34m\u001b[0m\u001b[0;34m\u001b[0m\u001b[0m\n\u001b[0;32m--> 449\u001b[0;31m             raise NotImplementedError('subtracting a sparse matrix from a '\n\u001b[0m\u001b[1;32m    450\u001b[0m                                       'nonzero scalar is not supported')\n\u001b[1;32m    451\u001b[0m         \u001b[0;32melif\u001b[0m \u001b[0misdense\u001b[0m\u001b[0;34m(\u001b[0m\u001b[0mother\u001b[0m\u001b[0;34m)\u001b[0m\u001b[0;34m:\u001b[0m\u001b[0;34m\u001b[0m\u001b[0;34m\u001b[0m\u001b[0m\n",
      "\u001b[0;31mNotImplementedError\u001b[0m: subtracting a sparse matrix from a nonzero scalar is not supported"
     ]
    }
   ],
   "source": [
    "#Test sparse3:\n",
    "import time\n",
    "n = [5,50,100,150,200]\n",
    "t = []\n",
    "ts = []  \n",
    "avg = 3\n",
    "for i in n:\n",
    "    timeavg = []\n",
    "    for j in range(avg):\n",
    "        D = np.random.rand(i,i)\n",
    "        j = np.random.rand(i)\n",
    "        t1 = time.time()\n",
    "        u = DirSolver(D,j)\n",
    "        t2 = time.time()\n",
    "        timeavg = np.append(timeavg,t2-t1)\n",
    "    t = np.append(t,np.sum(timeavg)/avg)\n",
    "    \n",
    "for i in n:\n",
    "    timeavg = []\n",
    "    for j in range(avg):\n",
    "        D = np.random.rand(i,i)\n",
    "        j = np.random.rand(i)\n",
    "        t1 = time.time()\n",
    "        u = DirSolverSparse(D,j)\n",
    "        t2 = time.time()\n",
    "        timeavg = np.append(timeavg,t2-t1)\n",
    "    ts = np.append(t,np.sum(timeavg)/avg)"
   ]
  },
  {
   "cell_type": "code",
   "execution_count": 37,
   "metadata": {},
   "outputs": [
    {
     "name": "stdout",
     "output_type": "stream",
     "text": [
      "[5.75145086e-04 3.58779430e-02 2.22449223e-01 7.26496538e-01\n",
      " 1.75654769e+00]\n"
     ]
    }
   ],
   "source": [
    "print(t)"
   ]
  },
  {
   "cell_type": "code",
   "execution_count": 171,
   "metadata": {},
   "outputs": [],
   "source": [
    "#SSOR method\n",
    "\n",
    "def SORit(A,u,w,f):\n",
    "    N = np.size(u)\n",
    "    s0 = u[0]\n",
    "    u[0] = (f[0] - np.dot(A[0,1:],u[1:]))/A[0,0]\n",
    "    u[0] = (1-w)*s0+w*u[0]\n",
    "    for i in range(1,N-1):\n",
    "        s = u[i]\n",
    "        u[i] = (f[i]-np.dot(A[i,:i-1],u[:i-1])-np.dot(A[i,i+1:],u[i+1:]))/A[i,i]\n",
    "        u[i] = (1-w)*s+w*u[i]\n",
    "    return u\n",
    "\n",
    "def SOR(A,u,w,f,N):\n",
    "    u0 = u\n",
    "    for i in range(N):\n",
    "        print(u0)\n",
    "        u0 = SORit(A,u0,w,f)\n",
    "    return u0\n"
   ]
  },
  {
   "cell_type": "code",
   "execution_count": 158,
   "metadata": {},
   "outputs": [
    {
     "name": "stdout",
     "output_type": "stream",
     "text": [
      "[0. 0. 0. 0.]\n",
      "[ 6.30979537  1.7813246  -6.98370489  0.        ]\n",
      "[ 37.90841327   5.34352048 -46.93477624   0.        ]\n",
      "[ 234.60282493   25.72146368 -295.62136437    0.        ]\n",
      "[ 1463.29870143   152.56965565 -1849.0980635      0.        ]\n"
     ]
    }
   ],
   "source": [
    "#Example3:\n",
    "N=4\n",
    "d=10\n",
    "D = np.random.rand(N,N)\n",
    "j = np.random.rand(N)\n",
    "u = DirSolver(D,j)\n",
    "\n",
    "#SSOR\n",
    "u0 = np.zeros(N)\n",
    "us = SOR(D,u0,1,j,5)"
   ]
  },
  {
   "cell_type": "code",
   "execution_count": 159,
   "metadata": {},
   "outputs": [
    {
     "name": "stdout",
     "output_type": "stream",
     "text": [
      "[-1.05627614  2.7984555  -0.35482717  0.58506365]\n",
      "[  9139.69871407    944.95541334 -11554.59865235      0.        ]\n"
     ]
    }
   ],
   "source": [
    "print(u)\n",
    "print(us)"
   ]
  },
  {
   "cell_type": "code",
   "execution_count": 2,
   "metadata": {},
   "outputs": [],
   "source": [
    "from scipy import sparse\n",
    "A = [[1,0,1],[0,4,0],[0,0,5]]\n",
    "As = sparse.csr_matrix(A) #make sparse"
   ]
  },
  {
   "cell_type": "code",
   "execution_count": 12,
   "metadata": {},
   "outputs": [
    {
     "name": "stdout",
     "output_type": "stream",
     "text": [
      "5\n"
     ]
    }
   ],
   "source": [
    "print(As[2,2])"
   ]
  }
 ],
 "metadata": {
  "kernelspec": {
   "display_name": "Python 3",
   "language": "python",
   "name": "python3"
  },
  "language_info": {
   "codemirror_mode": {
    "name": "ipython",
    "version": 3
   },
   "file_extension": ".py",
   "mimetype": "text/x-python",
   "name": "python",
   "nbconvert_exporter": "python",
   "pygments_lexer": "ipython3",
   "version": "3.7.6"
  }
 },
 "nbformat": 4,
 "nbformat_minor": 4
}
