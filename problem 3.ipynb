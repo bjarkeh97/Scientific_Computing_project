{
 "cells": [
  {
   "cell_type": "code",
   "execution_count": 2,
   "metadata": {},
   "outputs": [],
   "source": [
    "#\"Importing\" SSOR\n",
    "\n",
    "#SSOR\n",
    "#Same method but with a forward and backwards SOR\n",
    "\n",
    "import numpy as np\n",
    "\n",
    "def SORit(A,u,w,f):\n",
    "    N = np.size(u)\n",
    "    s0 = u[0]\n",
    "    u[0] = (f[0] - np.dot(A[0,1:],u[1:]))/A[0,0]  #First step manually\n",
    "    u[0] = (1-w)*s0+w*u[0]\n",
    "    for i in range(1,N-1): #Do N-2 steps automatically following algorithm\n",
    "        s = u[i]\n",
    "        u[i] = (f[i]-np.dot(A[i,:i],u[:i])-np.dot(A[i,i+1:],u[i+1:]))/A[i,i]\n",
    "        u[i] = (1-w)*s+w*u[i]\n",
    "    sN = u[-1] #Do last step manually\n",
    "    u[-1] = (f[-1]-np.dot(A[-1,:-1],u[:-1]))/A[-1,-1]\n",
    "    u[-1] = (1-w)*sN+w*u[-1]\n",
    "    return u\n",
    "\n",
    "def SORBWit(A,u,w,f): \n",
    "    N = np.size(u)\n",
    "    sN = u[-1] #Do last step manually\n",
    "    u[-1] = (f[-1]-np.dot(A[-1,:-1],u[:-1]))/A[-1,-1]\n",
    "    u[-1] = (1-w)*sN+w*u[-1]\n",
    "    for i in reversed(range(1,N-1)): #Do N-2 steps automatically following algorithm but reversed\n",
    "        s = u[i]\n",
    "        u[i] = (f[i]-np.dot(A[i,:i],u[:i])-np.dot(A[i,i+1:],u[i+1:]))/A[i,i]\n",
    "        u[i] = (1-w)*s+w*u[i]\n",
    "    s0 = u[0]\n",
    "    u[0] = (f[0] - np.dot(A[0,1:],u[1:]))/A[0,0]  #First step manually\n",
    "    u[0] = (1-w)*s0+w*u[0]\n",
    "    return u\n",
    "\n",
    "def SSOR(A,u,w,f,N):\n",
    "    u0 = u\n",
    "    for i in range(N):\n",
    "        u0 = SORit(A,u0,w,f)\n",
    "        u0 = SORBWit(A,u0,w,f)\n",
    "    return u0"
   ]
  },
  {
   "cell_type": "code",
   "execution_count": 3,
   "metadata": {},
   "outputs": [],
   "source": [
    "#Creating A,f,u_ex\n",
    "\n",
    "import numpy as np\n",
    "import matplotlib\n",
    "import matplotlib.pyplot as plt\n",
    "import scipy.sparse as sp\n",
    "import scipy.sparse.linalg as la\n",
    "import matplotlib.ticker as ticker\n",
    "\n",
    "def sourcefunc(x,y):\n",
    "    f = (x**2 + y**2)*np.sin(x*y)\n",
    "    return f\n",
    "\n",
    "def boundary(x,y):\n",
    "    b = np.sin(x*y)\n",
    "    return b\n",
    "\n",
    "def create_Afuex_2D(sourcefunc, boundary, p):\n",
    "\n",
    "    # Here I create the T_h and I_h matrices. These have precisely the same form as in the lecture notes. Some manual\n",
    "    # stuff is done since we are working without elimination of boundary conditions\n",
    "    h = 1/(2**p)\n",
    "    N = 1/h\n",
    "    N = int(N)\n",
    "    Th = sp.diags([-1, 2, -1], [-1, 0, 1], shape=(N-1, N-1)).toarray()\n",
    "    T_h = np.pad(Th,1)\n",
    "    T_h[0,0] = h**2\n",
    "    T_h[N,N] = h**2\n",
    "    Ih = sp.diags([1],[0], shape=(N-1, N-1)).toarray()\n",
    "    I_h = np.pad(Ih,1)\n",
    "    # The final A_h matrix is construced here. Because of the h^2 * I_{N+1} identity matrix in the very top left \n",
    "    # corner and bottom right corner I have to change four values manually from zero to 1\n",
    "    A = (1/(h**2))*np.kron(T_h, I_h) + (1/(h**2))*np.kron(I_h, T_h)\n",
    "    A[0,0] = 1\n",
    "    A[N,N] = 1\n",
    "    A[(N+1)**2-N-1,(N+1)**2-N-1] = 1\n",
    "    A[(N+1)**2-1,(N+1)**2-1] = 1\n",
    "    \n",
    "    \n",
    "    # A meshgrid is created here on which I will evalute the source function. This vector is the right size for\n",
    "    # the final result, but it includes every boundary value also, as evaluated through f. This is obviously wrong\n",
    "    # as these boundary values should be evaluated through b, so that has to be adjusted. I therefore immediately \n",
    "    # introduce b1 and b_end as vectors which are the boundary values on the bottom and top of the grid, respectively.\n",
    "    # f is also reshaped here to be a vector, not an array.\n",
    "    x,y = np.mgrid[0: 1: complex(0, N+1), 0: 1: complex(0, N+1)]\n",
    "    x = x.transpose()\n",
    "    y = y.transpose()\n",
    "\n",
    "    f = sourcefunc(x,y)\n",
    "    f = np.reshape(f, (N+1)*(N+1))\n",
    "\n",
    "    x_axis = np.linspace(0, 1, num = N+1)\n",
    "    b1 = boundary(x_axis, 0)\n",
    "    b_end = boundary(x_axis, 1)\n",
    "    \n",
    "    # In this section I overwrite the parts of the f vector that represent boundary terms and next-to-boundary terms.\n",
    "    # In the first loop I overwrite the firts and last parts of f with b1 and b_end, so that the bottom and top of the \n",
    "    # 'grid' are boundary values. In the second loop I overwrite values representing the left and right side of the\n",
    "    # 'grid'. Of course the bottom and left boundaries are just filled with zeros, as sin(xy) is zero when either x\n",
    "    # or y is zero. In the third loop I overwrite the entries which represent positions next to the right boundary. In\n",
    "    # the last loop I overwrite the entries which represent positions right below the top boundary. \n",
    "\n",
    "\n",
    "    for i in range(0, N+1):\n",
    "        f[i] = b1[i]\n",
    "        f[(N+1)*N + i] = b_end[i]\n",
    "\n",
    "    for i in range(1,N):\n",
    "        f[i*(N+1)] = 0\n",
    "        f[i*(N+1)+ N] = boundary(1, i*h)\n",
    "    \n",
    "    for i in range(0,N-1):    \n",
    "        f[2*N+i*(N+1)] = f[2*N+i*(N+1)] + boundary(1, (i+1)*h)/(h**2)\n",
    "    \n",
    "    for i in range(0,N-1):     \n",
    "        f[(N+1)**2-1-2*N+i] = f[(N+1)**2-1-2*N+i] + b_end[i+1]/(h**2)\n",
    "        \n",
    "    u_ex_pre = boundary(x,y)\n",
    "    u_ex = np.reshape(u_ex_pre, (1, (N+1)*(N+1)))\n",
    "        \n",
    "    return A , f , u_ex\n",
    "\n"
   ]
  },
  {
   "cell_type": "code",
   "execution_count": 15,
   "metadata": {},
   "outputs": [],
   "source": [
    "#Create A,f,u_ex for various sizes\n",
    "data = []\n",
    "for i in range(2,8):\n",
    "    A,f,u_ex = create_Afuex_2D(sourcefunc, boundary, i)\n",
    "    data.append((A,f,u_ex))"
   ]
  },
  {
   "cell_type": "code",
   "execution_count": 24,
   "metadata": {},
   "outputs": [],
   "source": [
    "import time\n",
    "N = 100   #Max number of iterations\n",
    "\n",
    "errorvec = np.zeros(N)\n",
    "timevec = np.zeros(N)\n",
    "itevec = np.linspace(1,N,N)\n",
    "\n",
    "p = 5\n",
    "\n",
    "A = data[p-2][0]\n",
    "f = data[p-2][1]\n",
    "u_ex = data[p-2][2]\n",
    "\n",
    "for i in range(N):\n",
    "    u0 = np.zeros(np.size(f))\n",
    "    t = time.time()\n",
    "    u = SSOR(A,u0,1.5,f,i)\n",
    "    t = time.time()-t\n",
    "    timevec[i] = t\n",
    "    error = np.amax(np.absolute(u_ex-u))\n",
    "    errorvec[i] = error\n"
   ]
  },
  {
   "cell_type": "code",
   "execution_count": 30,
   "metadata": {},
   "outputs": [
    {
     "name": "stdout",
     "output_type": "stream",
     "text": [
      "0.0015973207162426895\n"
     ]
    },
    {
     "data": {
      "image/png": "[encoded data removed]",
      "text/plain": [
       "<Figure size 432x288 with 2 Axes>"
      ]
     },
     "metadata": {
      "needs_background": "light"
     },
     "output_type": "display_data"
    }
   ],
   "source": [
    "from matplotlib import pyplot as plt\n",
    "\n",
    "fig, axs = plt.subplots(2)\n",
    "fig.suptitle('time and error versus iterations for SSOR method and with p= 5')\n",
    "axs[0].plot(itevec, errorvec)\n",
    "axs[0].set(ylabel=\"error\")\n",
    "axs[1].plot(itevec, timevec)\n",
    "axs[1].set(ylabel=\"time [s]\")\n",
    "\n",
    "print(errorvec[N-1])"
   ]
  },
  {
   "cell_type": "code",
   "execution_count": null,
   "metadata": {},
   "outputs": [],
   "source": [
    "#Solve for SSOR with omega = 1.5\n",
    "\n",
    "for i in data:\n",
    "    t = time.time()\n",
    "    u = SSOR(i[0],u0,1.5,i[1],)\n",
    "    u = DirSolver(i[0],i[1])\n",
    "    t = time.time()-t\n",
    "    error = np.amax(np.absolute(i[2]-u))\n",
    "    print(\"Error: \", error, \"time: \", t)"
   ]
  },
  {
   "cell_type": "code",
   "execution_count": 14,
   "metadata": {},
   "outputs": [
    {
     "name": "stdout",
     "output_type": "stream",
     "text": [
      "2\n",
      "3\n",
      "4\n",
      "5\n",
      "6\n"
     ]
    }
   ],
   "source": [
    "for i in range(2,7):\n",
    "    print(i)"
   ]
  }
 ],
 "metadata": {
  "interpreter": {
   "hash": "31f2aee4e71d21fbe5cf8b01ff0e069b9275f58929596ceb00d14d90e3e16cd6"
  },
  "kernelspec": {
   "display_name": "Python 3.8.9 64-bit",
   "language": "python",
   "name": "python3"
  },
  "language_info": {
   "codemirror_mode": {
    "name": "ipython",
    "version": 3
   },
   "file_extension": ".py",
   "mimetype": "text/x-python",
   "name": "python",
   "nbconvert_exporter": "python",
   "pygments_lexer": "ipython3",
   "version": "3.7.6"
  },
  "orig_nbformat": 4
 },
 "nbformat": 4,
 "nbformat_minor": 2
}
